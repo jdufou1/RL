{
 "cells": [
  {
   "cell_type": "markdown",
   "id": "8b23ee42-a036-42b8-a7b4-0b82fc7529d7",
   "metadata": {},
   "source": [
    "# Test Value-based RL algorithms"
   ]
  },
  {
   "cell_type": "markdown",
   "id": "dc064566-280d-4d79-92b8-2d9226244ee1",
   "metadata": {},
   "source": [
    "In this repo, we will test Policy Iteration, Value-Iteration, SARSA, Expected SARSA, QLearning, DQLearning and TD($\\lambda$)"
   ]
  },
  {
   "cell_type": "code",
   "execution_count": 29,
   "id": "2d26b78c-f405-4ae9-b3b0-a02f8aabe8f0",
   "metadata": {},
   "outputs": [],
   "source": [
    "import gym\n",
    "import numpy as np\n",
    "import random\n",
    "import matplotlib.pyplot as plt"
   ]
  },
  {
   "cell_type": "code",
   "execution_count": 21,
   "id": "79dec5d7-e7b8-456e-a0be-6a36a332d83e",
   "metadata": {},
   "outputs": [],
   "source": [
    "# policy evaluation\n",
    "def policy_evaluation(state_value_function,policy,env,discount_factor,nb_observation,nb_actions) : \n",
    "    delta = 1\n",
    "    terminaison_criteria = 1e-3\n",
    "    iteration = 0\n",
    "    while delta > terminaison_criteria :\n",
    "        delta = 0\n",
    "        for state in range(nb_observation) :\n",
    "            v = state_value_function[state]\n",
    "            best_action = policy[state]\n",
    "            data = env.P[state][best_action]\n",
    "            probas = np.asarray([i[0] for i in data])\n",
    "            rewards = np.asarray([i[2] for i in data])\n",
    "            value_new_states = np.asarray([state_value_function[i[1]] for i in data])\n",
    "            dones = np.asarray([i[3] for i in data])\n",
    "            state_value_function[state] = (probas * (rewards + discount_factor * (1-dones) * value_new_states)).sum()\n",
    "            delta = max(delta , abs(v - state_value_function[state]))\n",
    "        iteration += 1\n",
    "\n",
    "# policy improvement : \n",
    "def policy_improvement(state_value_function,policy,env,discount_factor,nb_observation,nb_actions) :\n",
    "    policy_stable = True\n",
    "    for state in range(nb_observation) :\n",
    "        old_action = policy[state]\n",
    "\n",
    "        best_action = 0\n",
    "        data = env.P[state][best_action]\n",
    "        probas = np.asarray([i[0] for i in data])\n",
    "        rewards = np.asarray([i[2] for i in data])\n",
    "        value_new_states = np.asarray([state_value_function[i[1]] for i in data])\n",
    "        dones = np.asarray([i[3] for i in data])\n",
    "        best_value_action = (probas * (rewards + discount_factor * (1-dones) * value_new_states)).sum()\n",
    "        for action in range(nb_actions) : \n",
    "            data = env.P[state][action]\n",
    "            probas = np.asarray([i[0] for i in data])\n",
    "            rewards = np.asarray([i[2] for i in data])\n",
    "            value_new_states = np.asarray([state_value_function[i[1]] for i in data])\n",
    "            dones = np.asarray([i[3] for i in data])\n",
    "            value_action = (probas * (rewards + discount_factor * (1-dones) * value_new_states)).sum()\n",
    "            if value_action > best_value_action :\n",
    "                best_value_action = value_action\n",
    "                best_action = action\n",
    "\n",
    "        policy[state] = best_action\n",
    "        if old_action != policy[state] :\n",
    "            policy_stable = False\n",
    "\n",
    "    return policy_stable\n",
    "\n",
    "# Policy iteration\n",
    "def policy_iteration(state_value_function,policy,env,discount_factor,nb_observation,nb_actions) :\n",
    "    iteration = 0\n",
    "    done = False\n",
    "    while not done :\n",
    "        print(f\"iteration {iteration}\")\n",
    "        policy_evaluation(state_value_function,policy,env,discount_factor,nb_observation,nb_actions)\n",
    "        done = policy_improvement(state_value_function,policy,env,discount_factor,nb_observation,nb_actions)\n",
    "        iteration += 1"
   ]
  },
  {
   "cell_type": "code",
   "execution_count": 22,
   "id": "ee89c5e1-e916-4b8f-a4cc-773de7ae1068",
   "metadata": {},
   "outputs": [],
   "source": [
    "env = gym.make(\"CliffWalking-v0\")"
   ]
  },
  {
   "cell_type": "code",
   "execution_count": 23,
   "id": "8ba53f55-671d-4f61-ad9a-7e3b350278ab",
   "metadata": {},
   "outputs": [
    {
     "name": "stdout",
     "output_type": "stream",
     "text": [
      "nb_actions :  4\n",
      "nb_observation :  500\n"
     ]
    }
   ],
   "source": [
    "nb_actions = env.action_space.n\n",
    "nb_observations = env.observation_space.n\n",
    "discount_factor = 0.99\n",
    "# initialisation\n",
    "state_value_function = np.zeros(nb_observation)\n",
    "policy = np.zeros(nb_observation)\n",
    "print(\"nb_actions : \",nb_actions)\n",
    "print(\"nb_observation : \",nb_observation)"
   ]
  },
  {
   "cell_type": "code",
   "execution_count": 26,
   "id": "bfcbb8ae-87db-4b52-9304-6a4c14726769",
   "metadata": {},
   "outputs": [
    {
     "name": "stdout",
     "output_type": "stream",
     "text": [
      "iteration 0\n",
      "test reward : -13\n"
     ]
    }
   ],
   "source": [
    "policy_iteration(state_value_function,policy,env,discount_factor,nb_observations,nb_actions)\n",
    "\n",
    "# Test\n",
    "state = env.reset()\n",
    "done = False\n",
    "cum_sum = 0\n",
    "while not done : \n",
    "    new_state,reward,done,_ = env.step(policy[state])\n",
    "    cum_sum += reward\n",
    "    state = new_state\n",
    "\n",
    "print(f\"test reward : {cum_sum}\")"
   ]
  },
  {
   "cell_type": "code",
   "execution_count": 28,
   "id": "75331b54-efe6-4c50-a890-08928eb8925e",
   "metadata": {},
   "outputs": [
    {
     "name": "stdout",
     "output_type": "stream",
     "text": [
      "iteration 0 - delta : 1\n",
      "iteration 1 - delta : 1.99\n",
      "iteration 2 - delta : 0.99\n",
      "iteration 3 - delta : 0.9801\n",
      "iteration 4 - delta : 0.9702989999999998\n",
      "iteration 5 - delta : 0.9605960100000002\n",
      "iteration 6 - delta : 0.9509900498999997\n",
      "iteration 7 - delta : 0.9414801494010003\n",
      "iteration 8 - delta : 0.93206534790699\n",
      "iteration 9 - delta : 0.9227446944279203\n",
      "iteration 10 - delta : 0.9135172474836413\n",
      "iteration 11 - delta : 0.9043820750088045\n",
      "iteration 12 - delta : 0.895338254258716\n",
      "iteration 13 - delta : 0.88638487171613\n",
      "iteration 14 - delta : 0.8775210229989678\n",
      "test reward : -13\n"
     ]
    }
   ],
   "source": [
    "state_value_function = np.zeros(nb_observations)\n",
    "policy = np.zeros(nb_observations)\n",
    "\n",
    "discount_factor = 0.99\n",
    "\n",
    "theta = 1e-6\n",
    "\n",
    "delta = 1\n",
    "\n",
    "iteration = 0\n",
    "\n",
    "while delta > theta :\n",
    "    print(f\"iteration {iteration} - delta : {delta}\") \n",
    "    delta = 0\n",
    "    for state in range(nb_observations) :\n",
    "        v = state_value_function[state]\n",
    "        data = env.P[state][0]\n",
    "        probas = np.asarray([i[0] for i in data])\n",
    "        rewards = np.asarray([i[2] for i in data])\n",
    "        value_new_states = np.asarray([state_value_function[i[1]] for i in data])\n",
    "        dones = np.asarray([i[3] for i in data])\n",
    "        best_value_action = (probas * (rewards + discount_factor * (1-dones) * value_new_states)).sum()\n",
    "        \n",
    "        for action in range(nb_actions) : \n",
    "            data = env.P[state][action]\n",
    "            probas = np.asarray([i[0] for i in data])\n",
    "            rewards = np.asarray([i[2] for i in data])\n",
    "            value_new_states = np.asarray([state_value_function[i[1]] for i in data])\n",
    "            dones = np.asarray([i[3] for i in data])\n",
    "            value_action = (probas * (rewards + discount_factor * (1-dones) * value_new_states)).sum()\n",
    "            if value_action > best_value_action :\n",
    "                best_value_action = value_action\n",
    "    \n",
    "        state_value_function[state] = best_value_action\n",
    "        delta = max(delta , abs(v - state_value_function[state]))\n",
    "    iteration += 1\n",
    "\n",
    "for state in range(nb_observations) :\n",
    "    old_action = policy[state]\n",
    "\n",
    "    best_action = 0\n",
    "    data = env.P[state][best_action]\n",
    "    probas = np.asarray([i[0] for i in data])\n",
    "    rewards = np.asarray([i[2] for i in data])\n",
    "    value_new_states = np.asarray([state_value_function[i[1]] for i in data])\n",
    "    dones = np.asarray([i[3] for i in data])\n",
    "    best_value_action = (probas * (rewards + discount_factor * (1-dones) * value_new_states)).sum()\n",
    "    for action in range(nb_actions) : \n",
    "        data = env.P[state][action]\n",
    "        probas = np.asarray([i[0] for i in data])\n",
    "        rewards = np.asarray([i[2] for i in data])\n",
    "        value_new_states = np.asarray([state_value_function[i[1]] for i in data])\n",
    "        dones = np.asarray([i[3] for i in data])\n",
    "        value_action = (probas * (rewards + discount_factor * (1-dones) * value_new_states)).sum()\n",
    "        if value_action > best_value_action :\n",
    "            best_value_action = value_action\n",
    "            best_action = action\n",
    "\n",
    "    policy[state] = best_action\n",
    "\n",
    "# Test\n",
    "state = env.reset()\n",
    "done = False\n",
    "cum_sum = 0\n",
    "while not done : \n",
    "    new_state,reward,done,_ = env.step(policy[state])\n",
    "    cum_sum += reward\n",
    "    state = new_state\n",
    "print(f\"test reward : {cum_sum}\")"
   ]
  },
  {
   "cell_type": "markdown",
   "id": "4a85a65c-0a94-448d-ac5e-5d3ca377d061",
   "metadata": {},
   "source": [
    "We see that Value iteration require more step to improve the politic"
   ]
  },
  {
   "cell_type": "markdown",
   "id": "d60e3a18-55f2-4883-8a5c-4356e8828259",
   "metadata": {},
   "source": [
    "# QLearning"
   ]
  },
  {
   "cell_type": "code",
   "execution_count": 61,
   "id": "300da726-f1f8-4a11-8370-3c27929f1a7f",
   "metadata": {},
   "outputs": [],
   "source": [
    "from tqdm import tqdm"
   ]
  },
  {
   "cell_type": "code",
   "execution_count": 158,
   "id": "7eaf1eee-e6fe-44d2-96cd-8286e6946063",
   "metadata": {},
   "outputs": [],
   "source": [
    "def take_action_eps_greedy(state,eps) -> int :\n",
    "    if random.random() > eps :\n",
    "        return np.argmax(action_value_function[state,:])\n",
    "    else: \n",
    "        return np.random.choice(np.arange(nb_actions))\n",
    "\n",
    "def test(maxlenep=500) :\n",
    "    state = env.reset()\n",
    "    done = False\n",
    "    cum_sum = 0\n",
    "    timestep = 0\n",
    "    while not done and timestep < maxlenep:\n",
    "        action = take_action_eps_greedy(state,0)\n",
    "        new_state,reward,done,_ = env.step(action)\n",
    "        cum_sum += reward\n",
    "        state = new_state\n",
    "        timestep+=1\n",
    "    return cum_sum"
   ]
  },
  {
   "cell_type": "code",
   "execution_count": 159,
   "id": "5dd921a4-8479-406d-80b6-fb46f9b8a6ec",
   "metadata": {},
   "outputs": [],
   "source": [
    "def qlearning(action_value_function, nb_iteration, nb_observations, nb_actions,test_frequency,discount_factor,learning_rate,eps) : \n",
    "    list_test = list()\n",
    "    for i in tqdm(range(nb_iteration)):\n",
    "\n",
    "        state = env.reset()\n",
    "        done = False\n",
    "        while not done : \n",
    "            action = take_action_eps_greedy(state,eps)\n",
    "            new_state,reward,done,_ = env.step(action)\n",
    "            action_value_function[state , action] += learning_rate * (\n",
    "                                                        reward + \n",
    "                                                        discount_factor * \n",
    "                                                        (1 - done) *\n",
    "                                                        np.max(action_value_function[new_state , :]) - \n",
    "                                                        action_value_function[state , action]\n",
    "                                                    )\n",
    "\n",
    "            state = new_state\n",
    "\n",
    "        if i % test_frequency == 0 :\n",
    "            # cum_sum_test = test()\n",
    "            # list_test.append(cum_sum_test)\n",
    "            # print(f\"iteration {i} - test reward : {cum_sum_test}\")\n",
    "            \n",
    "            t = 0\n",
    "            for i in range(10) :\n",
    "                t += test()\n",
    "            t /= 10\n",
    "            list_test.append(t)\n",
    "            \n",
    "    return list_test"
   ]
  },
  {
   "cell_type": "markdown",
   "id": "f35ff11c-17ec-4fb2-ae13-86e26e4cd368",
   "metadata": {},
   "source": [
    "## Expected SARSA"
   ]
  },
  {
   "cell_type": "code",
   "execution_count": 187,
   "id": "5738e3ed-fd65-483b-8351-9d17559b1e0f",
   "metadata": {},
   "outputs": [],
   "source": [
    "def softmax(actions) : \n",
    "    return np.exp(actions) / np.exp(actions).sum()"
   ]
  },
  {
   "cell_type": "code",
   "execution_count": 188,
   "id": "99e2e46d-c6c5-4c7e-a0a6-c39ae45e16af",
   "metadata": {},
   "outputs": [],
   "source": [
    "def expected_sarsa(action_value_function, nb_iteration, nb_observations, nb_actions,test_frequency,discount_factor,learning_rate,eps) : \n",
    "    list_test = list()\n",
    "    for i in tqdm(range(nb_iteration)):\n",
    "\n",
    "        state = env.reset()\n",
    "        done = False\n",
    "        while not done : \n",
    "            action = take_action_eps_greedy(state,eps)\n",
    "            new_state,reward,done,_ = env.step(action)\n",
    "            action_value_function[state , action] += learning_rate * (\n",
    "                                                        reward + \n",
    "                                                        discount_factor * \n",
    "                                                        (1 - done) *\n",
    "                                                        (softmax(action_value_function[new_state , :]) * action_value_function[new_state , :]).sum() - \n",
    "                                                        action_value_function[state , action]\n",
    "                                                    )\n",
    "\n",
    "            state = new_state\n",
    "\n",
    "        if i % test_frequency == 0 :\n",
    "            # cum_sum_test = test()\n",
    "            # list_test.append(cum_sum_test)\n",
    "            # print(f\"iteration {i} - test reward : {cum_sum_test}\")\n",
    "            \n",
    "            t = 0\n",
    "            for i in range(10) :\n",
    "                t += test()\n",
    "            t /= 10\n",
    "            list_test.append(t)\n",
    "            \n",
    "    return list_test"
   ]
  },
  {
   "cell_type": "markdown",
   "id": "82b877fb-e849-4ad5-a581-95a026af29cb",
   "metadata": {},
   "source": [
    "## SARSA"
   ]
  },
  {
   "cell_type": "code",
   "execution_count": 160,
   "id": "99ec3828-a697-48ad-bc9f-955b8d7d1276",
   "metadata": {},
   "outputs": [],
   "source": [
    "def sarsa(action_value_function, nb_iteration, nb_observations, nb_actions,test_frequency,discount_factor,learning_rate,eps) : \n",
    "\n",
    "    list_test = list()\n",
    "\n",
    "    for i in tqdm(range(nb_iteration)) :\n",
    "\n",
    "        state = env.reset()\n",
    "        done = False\n",
    "        action = take_action_eps_greedy(state,eps)\n",
    "        while not done : \n",
    "            new_state,reward,done,_ = env.step(action)\n",
    "            new_action =  take_action_eps_greedy(new_state,eps)\n",
    "            action_value_function[state,action] += learning_rate * (reward + \n",
    "                                                                    discount_factor * \n",
    "                                                                    (1 - done) * \n",
    "                                                                    action_value_function[new_state,new_action] -\n",
    "                                                                    action_value_function[state,action])\n",
    "            action = new_action\n",
    "            state = new_state\n",
    "\n",
    "        if i % test_frequency == 0:\n",
    "            # cum_sum_test = test()\n",
    "            # list_test.append(cum_sum_test)\n",
    "            #print(f\"iteration {i} - test reward : {cum_sum_test}\")\n",
    "            \n",
    "            t = 0\n",
    "            for i in range(10) :\n",
    "                t += test()\n",
    "            t /= 10\n",
    "            list_test.append(t)\n",
    "        \n",
    "    return list_test"
   ]
  },
  {
   "cell_type": "markdown",
   "id": "caeb7d2b-2d77-4e97-b423-89a14218d951",
   "metadata": {},
   "source": [
    "## Double QLearning"
   ]
  },
  {
   "cell_type": "code",
   "execution_count": 161,
   "id": "a259a3b1-6f97-416d-9fec-806f58ac0377",
   "metadata": {},
   "outputs": [],
   "source": [
    "def take_action_eps_greedy_dqlearning(state,eps,action_value_function_a,action_value_function_b) -> int :\n",
    "    if random.random() > eps :\n",
    "        return np.argmax(action_value_function_a[state,:] + action_value_function_b[state,:])\n",
    "    else: \n",
    "        return np.random.choice(np.arange(nb_actions))\n",
    "\n",
    "    \n",
    "def testdql(action_value_function_a,action_value_function_b,maxlenep=500) :\n",
    "    state = env.reset()\n",
    "    done = False\n",
    "    cum_sum = 0\n",
    "    timestep = 0\n",
    "    while not done and timestep < maxlenep:\n",
    "        action = take_action_eps_greedy_dqlearning(state,0,action_value_function_a,action_value_function_b)\n",
    "        new_state,reward,done,_ = env.step(action)\n",
    "        cum_sum += reward\n",
    "        state = new_state\n",
    "        timestep+=1\n",
    "    return cum_sum\n",
    "\n",
    "    \n",
    "def dqlearning(nb_iteration, nb_observations, nb_actions,test_frequency,discount_factor,learning_rate,eps) : \n",
    "    action_value_function_a = np.zeros((nb_observations,nb_actions))\n",
    "    action_value_function_b = np.zeros((nb_observations,nb_actions))\n",
    "    \n",
    "    list_test = list()\n",
    "    \n",
    "    for i in tqdm(range(nb_iteration)) : \n",
    "\n",
    "        state = env.reset()\n",
    "        done = False\n",
    "        while not done :\n",
    "\n",
    "            action = take_action_eps_greedy_dqlearning(state,eps,action_value_function_a,action_value_function_b)\n",
    "            new_state,reward,done,_ = env.step(action)\n",
    "            if random.random() < 0.5 :\n",
    "                # update A\n",
    "                action_a = np.argmax(action_value_function_a[new_state,:])\n",
    "\n",
    "                action_value_function_a[state,action] += learning_rate * (\n",
    "                    reward + \n",
    "                    discount_factor *\n",
    "                    (1 - done) *\n",
    "                    action_value_function_b[new_state,action_a] -\n",
    "                    action_value_function_a[state,action]\n",
    "                )\n",
    "            else :\n",
    "                # update B\n",
    "                action_b = np.argmax(action_value_function_b[new_state,:])\n",
    "\n",
    "                action_value_function_b[state,action] += learning_rate * (\n",
    "                    reward + \n",
    "                    discount_factor *\n",
    "                    (1 - done) * \n",
    "                    action_value_function_a[new_state,action_b] -\n",
    "                    action_value_function_b[state,action]\n",
    "                )\n",
    "            state = new_state\n",
    "\n",
    "        if i % test_frequency == 0 :\n",
    "            t = 0\n",
    "            for i in range(10) :\n",
    "                t += testdql(action_value_function_a,action_value_function_b)\n",
    "            t /= 10\n",
    "            list_test.append(t)\n",
    "            # print(f\"iteration {i} - test reward : {cum_sum_test}\")\n",
    "    return list_test"
   ]
  },
  {
   "cell_type": "markdown",
   "id": "a8709ed8-8365-43ce-812e-df14d87cfca6",
   "metadata": {},
   "source": [
    "## Test Taxi-v3"
   ]
  },
  {
   "cell_type": "code",
   "execution_count": 194,
   "id": "50ea777f-28c3-4453-9bb2-04edf5139cb7",
   "metadata": {},
   "outputs": [
    {
     "name": "stderr",
     "output_type": "stream",
     "text": [
      "100%|███████████████████████████████████| 30000/30000 [00:27<00:00, 1085.60it/s]\n"
     ]
    },
    {
     "name": "stdout",
     "output_type": "stream",
     "text": [
      "qlearning\n"
     ]
    },
    {
     "name": "stderr",
     "output_type": "stream",
     "text": [
      "100%|███████████████████████████████████| 30000/30000 [00:25<00:00, 1198.50it/s]\n"
     ]
    },
    {
     "name": "stdout",
     "output_type": "stream",
     "text": [
      "sarsa\n"
     ]
    },
    {
     "name": "stderr",
     "output_type": "stream",
     "text": [
      "100%|████████████████████████████████████| 30000/30000 [00:32<00:00, 919.45it/s]\n"
     ]
    },
    {
     "name": "stdout",
     "output_type": "stream",
     "text": [
      "expected_sarsa\n"
     ]
    },
    {
     "name": "stderr",
     "output_type": "stream",
     "text": [
      "100%|████████████████████████████████████| 30000/30000 [00:32<00:00, 916.86it/s]"
     ]
    },
    {
     "name": "stdout",
     "output_type": "stream",
     "text": [
      "dqlearning\n"
     ]
    },
    {
     "name": "stderr",
     "output_type": "stream",
     "text": [
      "\n"
     ]
    }
   ],
   "source": [
    "# env = gym.make(\"CliffWalking-v0\")\n",
    "env = gym.make(\"Taxi-v3\")\n",
    "# env = gym.make('FrozenLake-v0')\n",
    "\n",
    "nb_observations = env.observation_space.n\n",
    "nb_actions = env.action_space.n\n",
    "nb_iteration = 30000\n",
    "discount_factor = 0.99\n",
    "learning_rate = 5e-2\n",
    "test_frequency = 10\n",
    "eps = 0.15\n",
    "\n",
    "\n",
    "\n",
    "\n",
    "action_value_function = np.zeros((nb_observations,nb_actions))\n",
    "list_test_qlearning = qlearning(action_value_function, nb_iteration, nb_observations, nb_actions,test_frequency,discount_factor,learning_rate,eps)\n",
    "\n",
    "print(\"qlearning\")\n",
    "\n",
    "action_value_function = np.zeros((nb_observations,nb_actions))\n",
    "list_test_sarsa = sarsa(action_value_function, nb_iteration, nb_observations, nb_actions,test_frequency,discount_factor,learning_rate,eps)\n",
    "\n",
    "print(\"sarsa\")\n",
    "\n",
    "action_value_function = np.zeros((nb_observations,nb_actions))\n",
    "list_test_expected_sarsa = expected_sarsa(action_value_function, nb_iteration, nb_observations, nb_actions,test_frequency,discount_factor,learning_rate,eps)\n",
    "\n",
    "print(\"expected_sarsa\")\n",
    "\n",
    "list_test_dqlearning = dqlearning(nb_iteration, nb_observations, nb_actions,test_frequency,discount_factor,learning_rate,eps)\n",
    "\n",
    "print(\"dqlearning\")"
   ]
  },
  {
   "cell_type": "code",
   "execution_count": 195,
   "id": "52480e1d-57d4-4cf3-9b15-f46056f17da1",
   "metadata": {},
   "outputs": [
    {
     "data": {
      "image/png": "[encoded data removed]",
      "text/plain": [
       "<Figure size 432x288 with 1 Axes>"
      ]
     },
     "metadata": {
      "needs_background": "light"
     },
     "output_type": "display_data"
    }
   ],
   "source": [
    "plt.figure()\n",
    "plt.title(\"Taxi-v3 - rewards\")\n",
    "plt.xlabel(\"iteration\")\n",
    "plt.ylabel(\"rewards\")\n",
    "plt.plot(np.arange(0,nb_iteration,test_frequency),list_test_sarsa,label=\"sarsa\")\n",
    "plt.plot(np.arange(0,nb_iteration,test_frequency),list_test_qlearning,label=\"QLearning\")\n",
    "plt.plot(np.arange(0,nb_iteration,test_frequency),list_test_dqlearning,label=\"DQlearning\")\n",
    "plt.plot(np.arange(0,nb_iteration,test_frequency),list_test_expected_sarsa,label=\"expected_sarsa\")\n",
    "plt.legend()\n",
    "plt.show()"
   ]
  },
  {
   "cell_type": "code",
   "execution_count": 199,
   "id": "b3f62f4a-a07e-4512-9d02-d2241bd7af11",
   "metadata": {},
   "outputs": [
    {
     "data": {
      "image/png": "[encoded data removed]",
      "text/plain": [
       "<Figure size 432x288 with 1 Axes>"
      ]
     },
     "metadata": {
      "needs_background": "light"
     },
     "output_type": "display_data"
    }
   ],
   "source": [
    "plt.figure()\n",
    "plt.title(\"Taxi-v3 - Expected-SARSA vs SARSA\")\n",
    "plt.xlabel(\"iteration\")\n",
    "plt.ylabel(\"rewards\")\n",
    "plt.plot(np.arange(0,nb_iteration,test_frequency),list_test_sarsa,label=\"SARSA\")\n",
    "plt.plot(np.arange(0,nb_iteration,test_frequency),list_test_expected_sarsa,label=\"Expected-SARSA\")\n",
    "plt.legend()\n",
    "plt.show()"
   ]
  },
  {
   "cell_type": "code",
   "execution_count": 198,
   "id": "2097f81f-c192-4152-b9ab-46ea7e21869d",
   "metadata": {},
   "outputs": [
    {
     "data": {
      "image/png": "[encoded data removed]",
      "text/plain": [
       "<Figure size 432x288 with 1 Axes>"
      ]
     },
     "metadata": {
      "needs_background": "light"
     },
     "output_type": "display_data"
    }
   ],
   "source": [
    "plt.figure()\n",
    "plt.title(\"Taxi-v3 - Double QLearning vs QLearning\")\n",
    "plt.xlabel(\"iteration\")\n",
    "plt.ylabel(\"rewards\")\n",
    "plt.plot(np.arange(0,nb_iteration,test_frequency),list_test_dqlearning,label=\"DQlearning\")\n",
    "plt.plot(np.arange(0,nb_iteration,test_frequency),list_test_qlearning,label=\"QLearning\")\n",
    "plt.legend()\n",
    "plt.show()"
   ]
  },
  {
   "cell_type": "markdown",
   "id": "a62dd052-6aee-4b62-9e15-5413384fea5e",
   "metadata": {},
   "source": [
    "## Test FrozenLake-v0"
   ]
  },
  {
   "cell_type": "code",
   "execution_count": 225,
   "id": "9db5ed88-0684-4fff-b91b-9e79d1c6b9d7",
   "metadata": {},
   "outputs": [
    {
     "name": "stderr",
     "output_type": "stream",
     "text": [
      "100%|████████████████████████████████████| 50000/50000 [01:02<00:00, 800.07it/s]\n"
     ]
    },
    {
     "name": "stdout",
     "output_type": "stream",
     "text": [
      "qlearning\n"
     ]
    },
    {
     "name": "stderr",
     "output_type": "stream",
     "text": [
      "100%|███████████████████████████████████| 50000/50000 [00:44<00:00, 1123.46it/s]\n"
     ]
    },
    {
     "name": "stdout",
     "output_type": "stream",
     "text": [
      "sarsa\n"
     ]
    },
    {
     "name": "stderr",
     "output_type": "stream",
     "text": [
      "100%|███████████████████████████████████| 50000/50000 [00:45<00:00, 1093.52it/s]\n"
     ]
    },
    {
     "name": "stdout",
     "output_type": "stream",
     "text": [
      "expected_sarsa\n"
     ]
    },
    {
     "name": "stderr",
     "output_type": "stream",
     "text": [
      "100%|███████████████████████████████████| 50000/50000 [00:39<00:00, 1252.91it/s]"
     ]
    },
    {
     "name": "stdout",
     "output_type": "stream",
     "text": [
      "dqlearning\n"
     ]
    },
    {
     "name": "stderr",
     "output_type": "stream",
     "text": [
      "\n"
     ]
    }
   ],
   "source": [
    "# env = gym.make(\"CliffWalking-v0\")\n",
    "# env = gym.make(\"Taxi-v3\")\n",
    "env = gym.make('FrozenLake-v0')\n",
    "\n",
    "nb_observations = env.observation_space.n\n",
    "nb_actions = env.action_space.n\n",
    "nb_iteration = 50000\n",
    "discount_factor = 0.99\n",
    "learning_rate = 5e-2\n",
    "test_frequency = 10\n",
    "eps = 0.07\n",
    "\n",
    "action_value_function = np.zeros((nb_observations,nb_actions))\n",
    "list_test_qlearning = qlearning(action_value_function, nb_iteration, nb_observations, nb_actions,test_frequency,discount_factor,learning_rate,eps)\n",
    "\n",
    "print(\"qlearning\")\n",
    "\n",
    "action_value_function = np.zeros((nb_observations,nb_actions))\n",
    "list_test_sarsa = sarsa(action_value_function, nb_iteration, nb_observations, nb_actions,test_frequency,discount_factor,learning_rate,eps)\n",
    "\n",
    "print(\"sarsa\")\n",
    "\n",
    "action_value_function = np.zeros((nb_observations,nb_actions))\n",
    "list_test_expected_sarsa = expected_sarsa(action_value_function, nb_iteration, nb_observations, nb_actions,test_frequency,discount_factor,learning_rate,eps)\n",
    "\n",
    "print(\"expected_sarsa\")\n",
    "\n",
    "\n",
    "list_test_dqlearning = dqlearning(nb_iteration, nb_observations, nb_actions,test_frequency,discount_factor,learning_rate,eps)\n",
    "\n",
    "print(\"dqlearning\")"
   ]
  },
  {
   "cell_type": "code",
   "execution_count": 229,
   "id": "41b2545c-e334-413d-a7d8-8060a3a48748",
   "metadata": {},
   "outputs": [
    {
     "data": {
      "image/png": "[encoded data removed]",
      "text/plain": [
       "<Figure size 432x288 with 1 Axes>"
      ]
     },
     "metadata": {
      "needs_background": "light"
     },
     "output_type": "display_data"
    }
   ],
   "source": [
    "plt.figure()\n",
    "plt.title(\"FrozenLake-v0 - rewards\")\n",
    "plt.xlabel(\"iteration\")\n",
    "plt.ylabel(\"rewards\")\n",
    "\n",
    "plt.plot(np.arange(0,nb_iteration,test_frequency),list_test_expected_sarsa,label=\"expected_sarsa\")\n",
    "plt.plot(np.arange(0,nb_iteration,test_frequency),list_test_dqlearning,label=\"DQlearning\")\n",
    "plt.plot(np.arange(0,nb_iteration,test_frequency),list_test_qlearning,label=\"QLearning\")\n",
    "plt.plot(np.arange(0,nb_iteration,test_frequency),list_test_sarsa,label=\"sarsa\")\n",
    "\n",
    "\n",
    "plt.legend()\n",
    "plt.show()"
   ]
  },
  {
   "cell_type": "code",
   "execution_count": 230,
   "id": "f95f01db-9a24-49b2-8944-72f1243f9ec0",
   "metadata": {},
   "outputs": [
    {
     "data": {
      "image/png": "[encoded data removed]",
      "text/plain": [
       "<Figure size 432x288 with 1 Axes>"
      ]
     },
     "metadata": {
      "needs_background": "light"
     },
     "output_type": "display_data"
    }
   ],
   "source": [
    "plt.figure()\n",
    "plt.title(\"FrozenLake-v0 - Expected-SARSA vs SARSA\")\n",
    "plt.xlabel(\"iteration\")\n",
    "plt.ylabel(\"rewards\")\n",
    "plt.plot(np.arange(0,nb_iteration,test_frequency),list_test_expected_sarsa,label=\"Expected-SARSA\")\n",
    "plt.plot(np.arange(0,nb_iteration,test_frequency),list_test_sarsa,label=\"SARSA\")\n",
    "plt.legend()\n",
    "plt.show()"
   ]
  },
  {
   "cell_type": "code",
   "execution_count": 231,
   "id": "53b636e4-c5d3-40ca-a0ee-f234309e14bd",
   "metadata": {},
   "outputs": [
    {
     "data": {
      "image/png": "[encoded data removed]",
      "text/plain": [
       "<Figure size 432x288 with 1 Axes>"
      ]
     },
     "metadata": {
      "needs_background": "light"
     },
     "output_type": "display_data"
    }
   ],
   "source": [
    "plt.figure()\n",
    "plt.title(\"FrozenLake-v0 - Double QLearning vs QLearning\")\n",
    "plt.xlabel(\"iteration\")\n",
    "plt.ylabel(\"rewards\")\n",
    "\n",
    "\n",
    "plt.plot(np.arange(0,nb_iteration,test_frequency),list_test_qlearning,label=\"QLearning\")\n",
    "plt.plot(np.arange(0,nb_iteration,test_frequency),list_test_dqlearning,label=\"DQlearning\")\n",
    "\n",
    "plt.legend()\n",
    "plt.show()"
   ]
  },
  {
   "cell_type": "code",
   "execution_count": null,
   "id": "1c8e9e42-005e-4077-99a8-edb13ac6283a",
   "metadata": {},
   "outputs": [],
   "source": []
  }
 ],
 "metadata": {
  "kernelspec": {
   "display_name": "Python 3 (ipykernel)",
   "language": "python",
   "name": "python3"
  },
  "language_info": {
   "codemirror_mode": {
    "name": "ipython",
    "version": 3
   },
   "file_extension": ".py",
   "mimetype": "text/x-python",
   "name": "python",
   "nbconvert_exporter": "python",
   "pygments_lexer": "ipython3",
   "version": "3.8.10"
  }
 },
 "nbformat": 4,
 "nbformat_minor": 5
}
