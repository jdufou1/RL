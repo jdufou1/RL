{
 "cells": [
  {
   "cell_type": "code",
   "execution_count": 4,
   "id": "7a8258d1-eba0-4f38-a181-d66653d134d0",
   "metadata": {},
   "outputs": [],
   "source": [
    "import gym\n",
    "import torch\n",
    "import torch.nn as nn\n",
    "import numpy as np\n",
    "from tqdm import tqdm\n",
    "import random\n",
    "import matplotlib.pyplot as plt\n",
    "from collections import deque\n",
    "from collections import namedtuple\n",
    "import typing"
   ]
  },
  {
   "cell_type": "code",
   "execution_count": 5,
   "id": "663d6a3b-7903-4c83-bb3b-c979d4db0a95",
   "metadata": {},
   "outputs": [],
   "source": [
    "class DuelingQNetwork(nn.Module) :\n",
    "    \n",
    "    def __init__(self,\n",
    "              nb_actions,\n",
    "              nb_observations) : \n",
    "        \n",
    "        super().__init__()\n",
    "        self.nb_actions = nb_actions\n",
    "        self.nb_observations = nb_observations\n",
    "        \n",
    "        self.net = nn.Sequential(\n",
    "            nn.Linear(nb_observations,64),\n",
    "            nn.ReLU(),\n",
    "            nn.Linear(64,64),\n",
    "            nn.ReLU(),\n",
    "            nn.Linear(64,32)\n",
    "        )\n",
    "        \n",
    "        self.net_advantage = nn.Sequential(\n",
    "            nn.ReLU(),\n",
    "            nn.Linear(32,nb_actions)\n",
    "        )\n",
    "        \n",
    "        self.net_state_value = nn.Sequential(\n",
    "            nn.ReLU(),\n",
    "            nn.Linear(32,1)\n",
    "        )\n",
    "        \n",
    "    def advantage(self,x) :\n",
    "        return self.net_advantage(self.net(x))\n",
    "    \n",
    "    def state_value(self,x) :\n",
    "        return self.net_state_value(self.net(x))\n",
    "    \n",
    "    def forward(self,x) :\n",
    "        return self.state_value(x) + self.advantage(x) - torch.mean(self.advantage(x),dim=1).unsqueeze(1)"
   ]
  },
  {
   "cell_type": "code",
   "execution_count": 6,
   "id": "bd637220-d90d-45e8-aaa2-bf6e11db2bcc",
   "metadata": {},
   "outputs": [],
   "source": [
    "\"\"\"\n",
    "Prioritized Experience Replay\n",
    "\"\"\"\n",
    "\n",
    "\n",
    "_field_names = [\n",
    "    \"state\",\n",
    "    \"action\",\n",
    "    \"reward\",\n",
    "    \"done\",\n",
    "    \"new_state\"\n",
    "    \n",
    "]\n",
    "Experience = namedtuple(\"Experience\", field_names=_field_names)\n",
    "\n",
    "class PrioritizedExperienceReplayBuffer:\n",
    "    def __init__(self,\n",
    "                 batch_size: int,\n",
    "                 buffer_size: int,\n",
    "                 alpha: float = 0.0,\n",
    "                 random_state: np.random.RandomState = None) -> None:\n",
    "        self._batch_size = batch_size\n",
    "        self._buffer_size = buffer_size\n",
    "        self._buffer_length = 0\n",
    "        self._buffer = np.empty(self._buffer_size, dtype=[(\"priority\", np.float32), (\"experience\", Experience)])\n",
    "        self._alpha = alpha\n",
    "        self._random_state = np.random.RandomState() if random_state is None else random_state\n",
    "        \n",
    "    def __len__(self) -> int:\n",
    "        return self._buffer_length\n",
    "\n",
    "    def alpha(self):\n",
    "        return self._alpha\n",
    "\n",
    "    def batch_size(self) -> int:\n",
    "        return self._batch_size\n",
    "    \n",
    "    def buffer_size(self) -> int:\n",
    "        return self._buffer_size\n",
    "\n",
    "    def add(self, experience: Experience) -> None:\n",
    "        priority = 1.0 if self.is_empty() else self._buffer[\"priority\"].max()\n",
    "        if self.is_full():\n",
    "            if priority > self._buffer[\"priority\"].min():\n",
    "                idx = self._buffer[\"priority\"].argmin()\n",
    "                self._buffer[idx] = (priority, experience)\n",
    "            else:\n",
    "                pass\n",
    "        else:\n",
    "            self._buffer[self._buffer_length] = (priority, experience)\n",
    "            self._buffer_length += 1\n",
    "\n",
    "    def is_empty(self) -> bool:\n",
    "        return self._buffer_length == 0\n",
    "    \n",
    "    def is_full(self) -> bool:\n",
    "        return self._buffer_length == self._buffer_size\n",
    "    \n",
    "    def sample(self, beta: float) -> typing.Tuple[np.array, np.array, np.array]:\n",
    "        ps = self._buffer[:self._buffer_length][\"priority\"]\n",
    "        sampling_probs = ps**self._alpha / np.sum(ps**self._alpha)\n",
    "        idxs = self._random_state.choice(np.arange(ps.size),\n",
    "                                         size=self._batch_size,\n",
    "                                         replace=True,\n",
    "                                         p=sampling_probs)\n",
    "        \n",
    "        experiences = self._buffer[\"experience\"][idxs]        \n",
    "        weights = (self._buffer_length * sampling_probs[idxs])**-beta\n",
    "        normalized_weights = weights / weights.max()\n",
    "        \n",
    "        return idxs, experiences, normalized_weights\n",
    "\n",
    "    def update_priorities(self, idxs: np.array, priorities: np.array) -> None:\n",
    "        self._buffer[\"priority\"][idxs] = priorities\n",
    "        \n",
    "\n",
    "def exponential_annealing_schedule(episode, rate=1e-2):\n",
    "    return 1 - np.exp(-rate * episode)"
   ]
  },
  {
   "cell_type": "code",
   "execution_count": 7,
   "id": "deec7bc0-d4b5-4761-9b64-c9422bbbbb34",
   "metadata": {},
   "outputs": [],
   "source": [
    "def test(q_network) :\n",
    "    state = env.reset()\n",
    "    done = False\n",
    "    cum_sum = 0\n",
    "    timestep = 0\n",
    "    while not done  :\n",
    "        state_t = torch.as_tensor(state , dtype = torch.float32).unsqueeze(0)\n",
    "        action = torch.argmax(q_network(state_t)).item()\n",
    "        new_state,reward,done,_ = env.step(action)\n",
    "        state = new_state\n",
    "        cum_sum += reward\n",
    "        timestep +=1\n",
    "        \n",
    "    return cum_sum"
   ]
  },
  {
   "cell_type": "code",
   "execution_count": 8,
   "id": "b12c574c-7a4a-4262-9317-219d89a12b1b",
   "metadata": {},
   "outputs": [],
   "source": [
    "env = gym.make(\"CartPole-v0\")\n",
    "nb_actions = 2\n",
    "nb_observations = 4"
   ]
  },
  {
   "cell_type": "markdown",
   "id": "50f07afa-9848-4a62-92ee-743abca24b81",
   "metadata": {},
   "source": [
    "## Dueling DQN with Experience Replay Buffer and Target Network"
   ]
  },
  {
   "cell_type": "code",
   "execution_count": null,
   "id": "e0c7cfde-ec4f-477f-b72b-806f402df06b",
   "metadata": {},
   "outputs": [],
   "source": [
    "nb_episode = 1000\n",
    "\n",
    "discount_factor = 0.99\n",
    "learning_rate = 2e-4\n",
    "test_frequency = 10\n",
    "epsilon = 1.0\n",
    "epsilon_decay = 0.995\n",
    "epsilon_min = 0.02\n",
    "batch_size = 64\n",
    "size_replay_buffer = int(1e5)\n",
    "update_frequency = 1\n",
    "tau = 1e-3 "
   ]
  },
  {
   "cell_type": "markdown",
   "id": "0c90f5d4-1fe1-4990-b91a-1183ce65d5fc",
   "metadata": {},
   "source": [
    "## Dueling Double DQN with Experience Replay Buffer and Target Network (D3QN)"
   ]
  },
  {
   "cell_type": "code",
   "execution_count": 12,
   "id": "28be630d-b6c3-4036-9178-ce41c25823c2",
   "metadata": {},
   "outputs": [],
   "source": [
    "nb_episode = 1000\n",
    "\n",
    "discount_factor = 0.99\n",
    "learning_rate = 2e-4\n",
    "test_frequency = 10\n",
    "epsilon = 1.0\n",
    "epsilon_decay = 0.995\n",
    "epsilon_min = 0.02\n",
    "batch_size = 64\n",
    "size_replay_buffer = int(1e5)\n",
    "update_frequency = 1\n",
    "tau = 1e-3 "
   ]
  },
  {
   "cell_type": "code",
   "execution_count": null,
   "id": "f9174647-c20e-4522-8473-6d0599281325",
   "metadata": {},
   "outputs": [
    {
     "name": "stderr",
     "output_type": "stream",
     "text": [
      "  1%|▎                                         | 8/1000 [00:00<00:14, 69.60it/s]"
     ]
    },
    {
     "name": "stdout",
     "output_type": "stream",
     "text": [
      "episode 0 - test reward : 9.3 - avg : 10.0 - epsilon 0.995\n"
     ]
    },
    {
     "name": "stderr",
     "output_type": "stream",
     "text": [
      "  2%|▌                                        | 15/1000 [00:00<00:28, 34.88it/s]"
     ]
    },
    {
     "name": "stdout",
     "output_type": "stream",
     "text": [
      "episode 10 - test reward : 9.8 - avg : 9.272727272727273 - epsilon 0.946354579813443\n"
     ]
    },
    {
     "name": "stderr",
     "output_type": "stream",
     "text": [
      "  2%|▉                                        | 24/1000 [00:00<00:40, 24.30it/s]"
     ]
    },
    {
     "name": "stdout",
     "output_type": "stream",
     "text": [
      "episode 20 - test reward : 9.5 - avg : 9.761904761904763 - epsilon 0.9000874278732445\n"
     ]
    },
    {
     "name": "stderr",
     "output_type": "stream",
     "text": [
      "  3%|█▎                                       | 33/1000 [00:01<00:42, 22.51it/s]"
     ]
    },
    {
     "name": "stdout",
     "output_type": "stream",
     "text": [
      "episode 30 - test reward : 9.3 - avg : 9.903225806451612 - epsilon 0.8560822709551227\n"
     ]
    },
    {
     "name": "stderr",
     "output_type": "stream",
     "text": [
      "  4%|█▋                                       | 42/1000 [00:01<00:52, 18.11it/s]"
     ]
    },
    {
     "name": "stdout",
     "output_type": "stream",
     "text": [
      "episode 40 - test reward : 9.4 - avg : 10.292682926829269 - epsilon 0.8142285204175609\n"
     ]
    },
    {
     "name": "stderr",
     "output_type": "stream",
     "text": [
      "  5%|██▏                                      | 54/1000 [00:02<00:51, 18.35it/s]"
     ]
    },
    {
     "name": "stdout",
     "output_type": "stream",
     "text": [
      "episode 50 - test reward : 11.2 - avg : 10.490196078431373 - epsilon 0.7744209942832988\n"
     ]
    },
    {
     "name": "stderr",
     "output_type": "stream",
     "text": [
      "  6%|██▌                                      | 64/1000 [00:03<01:05, 14.36it/s]"
     ]
    },
    {
     "name": "stdout",
     "output_type": "stream",
     "text": [
      "episode 60 - test reward : 10.4 - avg : 10.80327868852459 - epsilon 0.736559652908221\n"
     ]
    },
    {
     "name": "stderr",
     "output_type": "stream",
     "text": [
      "  7%|██▉                                      | 73/1000 [00:03<00:54, 16.86it/s]"
     ]
    },
    {
     "name": "stdout",
     "output_type": "stream",
     "text": [
      "episode 70 - test reward : 12.2 - avg : 11.014084507042254 - epsilon 0.7005493475733617\n"
     ]
    },
    {
     "name": "stderr",
     "output_type": "stream",
     "text": [
      "  8%|███▍                                     | 85/1000 [00:04<00:47, 19.12it/s]"
     ]
    },
    {
     "name": "stdout",
     "output_type": "stream",
     "text": [
      "episode 80 - test reward : 9.5 - avg : 10.987654320987655 - epsilon 0.6662995813682115\n"
     ]
    },
    {
     "name": "stderr",
     "output_type": "stream",
     "text": [
      "  9%|███▊                                     | 93/1000 [00:05<01:03, 14.18it/s]"
     ]
    },
    {
     "name": "stdout",
     "output_type": "stream",
     "text": [
      "episode 90 - test reward : 9.9 - avg : 11.32967032967033 - epsilon 0.6337242817644086\n"
     ]
    },
    {
     "name": "stderr",
     "output_type": "stream",
     "text": [
      " 10%|████                                    | 103/1000 [00:05<00:53, 16.79it/s]"
     ]
    },
    {
     "name": "stdout",
     "output_type": "stream",
     "text": [
      "episode 100 - test reward : 9.5 - avg : 11.48 - epsilon 0.6027415843082742\n"
     ]
    },
    {
     "name": "stderr",
     "output_type": "stream",
     "text": [
      " 11%|████▌                                   | 114/1000 [00:06<00:48, 18.22it/s]"
     ]
    },
    {
     "name": "stdout",
     "output_type": "stream",
     "text": [
      "episode 110 - test reward : 9.2 - avg : 11.88 - epsilon 0.5732736268885887\n"
     ]
    },
    {
     "name": "stderr",
     "output_type": "stream",
     "text": [
      " 12%|████▉                                   | 124/1000 [00:06<00:44, 19.47it/s]"
     ]
    },
    {
     "name": "stdout",
     "output_type": "stream",
     "text": [
      "episode 120 - test reward : 9.5 - avg : 11.97 - epsilon 0.5452463540625918\n"
     ]
    },
    {
     "name": "stderr",
     "output_type": "stream",
     "text": [
      " 13%|█████▎                                  | 132/1000 [00:07<00:53, 16.18it/s]"
     ]
    },
    {
     "name": "stdout",
     "output_type": "stream",
     "text": [
      "episode 130 - test reward : 9.1 - avg : 12.3 - epsilon 0.5185893309484582\n"
     ]
    },
    {
     "name": "stderr",
     "output_type": "stream",
     "text": [
      " 14%|█████▋                                  | 143/1000 [00:08<00:52, 16.30it/s]"
     ]
    },
    {
     "name": "stdout",
     "output_type": "stream",
     "text": [
      "episode 140 - test reward : 9.3 - avg : 12.4 - epsilon 0.4932355662165453\n"
     ]
    },
    {
     "name": "stderr",
     "output_type": "stream",
     "text": [
      " 15%|██████                                  | 153/1000 [00:08<01:00, 13.90it/s]"
     ]
    },
    {
     "name": "stdout",
     "output_type": "stream",
     "text": [
      "episode 150 - test reward : 9.5 - avg : 12.55 - epsilon 0.46912134373457726\n"
     ]
    },
    {
     "name": "stderr",
     "output_type": "stream",
     "text": [
      " 16%|██████▌                                 | 164/1000 [00:09<00:49, 16.99it/s]"
     ]
    },
    {
     "name": "stdout",
     "output_type": "stream",
     "text": [
      "episode 160 - test reward : 9.5 - avg : 12.81 - epsilon 0.446186062443672\n"
     ]
    },
    {
     "name": "stderr",
     "output_type": "stream",
     "text": [
      " 17%|██████▉                                 | 173/1000 [00:10<00:51, 15.92it/s]"
     ]
    },
    {
     "name": "stdout",
     "output_type": "stream",
     "text": [
      "episode 170 - test reward : 9.7 - avg : 13.11 - epsilon 0.42437208406280985\n"
     ]
    },
    {
     "name": "stderr",
     "output_type": "stream",
     "text": [
      " 18%|███████▎                                | 184/1000 [00:10<00:46, 17.42it/s]"
     ]
    },
    {
     "name": "stdout",
     "output_type": "stream",
     "text": [
      "episode 180 - test reward : 11.1 - avg : 13.3 - epsilon 0.4036245882390106\n"
     ]
    },
    {
     "name": "stderr",
     "output_type": "stream",
     "text": [
      " 19%|███████▋                                | 192/1000 [00:11<00:59, 13.50it/s]"
     ]
    },
    {
     "name": "stdout",
     "output_type": "stream",
     "text": [
      "episode 190 - test reward : 9.1 - avg : 13.47 - epsilon 0.38389143477919885\n"
     ]
    },
    {
     "name": "stderr",
     "output_type": "stream",
     "text": [
      " 20%|████████                                | 203/1000 [00:11<00:52, 15.27it/s]"
     ]
    },
    {
     "name": "stdout",
     "output_type": "stream",
     "text": [
      "episode 200 - test reward : 10.1 - avg : 13.92 - epsilon 0.36512303261753626\n"
     ]
    },
    {
     "name": "stderr",
     "output_type": "stream",
     "text": [
      " 21%|████████▌                               | 213/1000 [00:12<00:49, 15.94it/s]"
     ]
    },
    {
     "name": "stdout",
     "output_type": "stream",
     "text": [
      "episode 210 - test reward : 10.7 - avg : 14.2 - epsilon 0.3472722151889232\n"
     ]
    },
    {
     "name": "stderr",
     "output_type": "stream",
     "text": [
      " 22%|████████▊                               | 221/1000 [00:13<01:12, 10.82it/s]"
     ]
    },
    {
     "name": "stdout",
     "output_type": "stream",
     "text": [
      "episode 220 - test reward : 11.3 - avg : 15.05 - epsilon 0.3302941218954743\n"
     ]
    },
    {
     "name": "stderr",
     "output_type": "stream",
     "text": [
      " 23%|█████████▎                              | 233/1000 [00:14<00:56, 13.56it/s]"
     ]
    },
    {
     "name": "stdout",
     "output_type": "stream",
     "text": [
      "episode 230 - test reward : 21.7 - avg : 15.85 - epsilon 0.3141460853680822\n"
     ]
    },
    {
     "name": "stderr",
     "output_type": "stream",
     "text": [
      " 24%|█████████▋                              | 241/1000 [00:14<00:52, 14.34it/s]"
     ]
    },
    {
     "name": "stdout",
     "output_type": "stream",
     "text": [
      "episode 240 - test reward : 15.6 - avg : 16.23 - epsilon 0.2987875242397482\n"
     ]
    },
    {
     "name": "stderr",
     "output_type": "stream",
     "text": [
      " 25%|██████████                              | 251/1000 [00:16<02:47,  4.46it/s]"
     ]
    },
    {
     "name": "stdout",
     "output_type": "stream",
     "text": [
      "episode 250 - test reward : 136.6 - avg : 18.42 - epsilon 0.28417984116121187\n"
     ]
    },
    {
     "name": "stderr",
     "output_type": "stream",
     "text": [
      " 26%|██████████▍                             | 262/1000 [00:18<02:08,  5.74it/s]"
     ]
    },
    {
     "name": "stdout",
     "output_type": "stream",
     "text": [
      "episode 260 - test reward : 156.9 - avg : 19.34 - epsilon 0.2702863258025825\n"
     ]
    },
    {
     "name": "stderr",
     "output_type": "stream",
     "text": [
      " 27%|██████████▊                             | 271/1000 [00:20<03:34,  3.40it/s]"
     ]
    },
    {
     "name": "stdout",
     "output_type": "stream",
     "text": [
      "episode 270 - test reward : 200.0 - avg : 22.04 - epsilon 0.2570720625972084\n"
     ]
    },
    {
     "name": "stderr",
     "output_type": "stream",
     "text": [
      " 28%|███████████▎                            | 282/1000 [00:22<02:46,  4.30it/s]"
     ]
    },
    {
     "name": "stdout",
     "output_type": "stream",
     "text": [
      "episode 280 - test reward : 199.7 - avg : 24.05 - epsilon 0.24450384299593592\n"
     ]
    },
    {
     "name": "stderr",
     "output_type": "stream",
     "text": [
      " 29%|███████████▌                            | 290/1000 [00:23<01:18,  8.99it/s]"
     ]
    },
    {
     "name": "stdout",
     "output_type": "stream",
     "text": [
      "episode 290 - test reward : 185.2 - avg : 25.26 - epsilon 0.23255008201124722\n"
     ]
    },
    {
     "name": "stderr",
     "output_type": "stream",
     "text": [
      " 30%|████████████                            | 302/1000 [00:25<02:23,  4.86it/s]"
     ]
    },
    {
     "name": "stdout",
     "output_type": "stream",
     "text": [
      "episode 300 - test reward : 177.1 - avg : 26.38 - epsilon 0.2211807388415433\n"
     ]
    },
    {
     "name": "stderr",
     "output_type": "stream",
     "text": [
      " 31%|████████████▍                           | 311/1000 [00:27<02:32,  4.51it/s]"
     ]
    },
    {
     "name": "stdout",
     "output_type": "stream",
     "text": [
      "episode 310 - test reward : 182.6 - avg : 27.75 - epsilon 0.21036724137609603\n"
     ]
    },
    {
     "name": "stderr",
     "output_type": "stream",
     "text": [
      " 32%|████████████▉                           | 323/1000 [00:29<02:31,  4.46it/s]"
     ]
    },
    {
     "name": "stdout",
     "output_type": "stream",
     "text": [
      "episode 320 - test reward : 188.9 - avg : 29.23 - epsilon 0.2000824143909432\n"
     ]
    },
    {
     "name": "stderr",
     "output_type": "stream",
     "text": [
      " 33%|█████████████▎                          | 332/1000 [00:31<02:26,  4.55it/s]"
     ]
    },
    {
     "name": "stdout",
     "output_type": "stream",
     "text": [
      "episode 330 - test reward : 170.0 - avg : 30.32 - epsilon 0.1903004112552766\n"
     ]
    },
    {
     "name": "stderr",
     "output_type": "stream",
     "text": [
      " 34%|█████████████▋                          | 343/1000 [00:32<01:40,  6.52it/s]"
     ]
    },
    {
     "name": "stdout",
     "output_type": "stream",
     "text": [
      "episode 340 - test reward : 189.3 - avg : 30.87 - epsilon 0.18099664897669618\n"
     ]
    },
    {
     "name": "stderr",
     "output_type": "stream",
     "text": [
      " 35%|██████████████                          | 351/1000 [00:33<02:21,  4.58it/s]"
     ]
    },
    {
     "name": "stdout",
     "output_type": "stream",
     "text": [
      "episode 350 - test reward : 191.3 - avg : 30.21 - epsilon 0.17214774642209296\n"
     ]
    },
    {
     "name": "stderr",
     "output_type": "stream",
     "text": [
      " 36%|██████████████▍                         | 362/1000 [00:35<02:08,  4.98it/s]"
     ]
    },
    {
     "name": "stdout",
     "output_type": "stream",
     "text": [
      "episode 360 - test reward : 189.5 - avg : 31.21 - epsilon 0.16373146555890544\n"
     ]
    },
    {
     "name": "stderr",
     "output_type": "stream",
     "text": [
      " 37%|██████████████▉                         | 373/1000 [00:38<02:08,  4.90it/s]"
     ]
    },
    {
     "name": "stdout",
     "output_type": "stream",
     "text": [
      "episode 370 - test reward : 191.6 - avg : 31.43 - epsilon 0.1557266555690826\n"
     ]
    },
    {
     "name": "stderr",
     "output_type": "stream",
     "text": [
      " 38%|███████████████▎                        | 382/1000 [00:39<02:26,  4.22it/s]"
     ]
    },
    {
     "name": "stdout",
     "output_type": "stream",
     "text": [
      "episode 380 - test reward : 193.4 - avg : 31.12 - epsilon 0.14811319969530845\n"
     ]
    },
    {
     "name": "stderr",
     "output_type": "stream",
     "text": [
      " 39%|███████████████▋                        | 392/1000 [00:41<01:59,  5.11it/s]"
     ]
    },
    {
     "name": "stdout",
     "output_type": "stream",
     "text": [
      "episode 390 - test reward : 193.1 - avg : 30.91 - epsilon 0.14087196468590776\n"
     ]
    },
    {
     "name": "stderr",
     "output_type": "stream",
     "text": [
      " 40%|████████████████                        | 403/1000 [00:42<01:38,  6.07it/s]"
     ]
    },
    {
     "name": "stdout",
     "output_type": "stream",
     "text": [
      "episode 400 - test reward : 200.0 - avg : 30.79 - epsilon 0.13398475271138335\n"
     ]
    },
    {
     "name": "stderr",
     "output_type": "stream",
     "text": [
      " 41%|████████████████▍                       | 411/1000 [00:44<02:57,  3.33it/s]"
     ]
    },
    {
     "name": "stdout",
     "output_type": "stream",
     "text": [
      "episode 410 - test reward : 198.5 - avg : 31.18 - epsilon 0.12743425563174798\n"
     ]
    },
    {
     "name": "stderr",
     "output_type": "stream",
     "text": [
      " 42%|████████████████▊                       | 421/1000 [00:46<02:26,  3.96it/s]"
     ]
    },
    {
     "name": "stdout",
     "output_type": "stream",
     "text": [
      "episode 420 - test reward : 197.6 - avg : 30.65 - epsilon 0.12120401149972035\n"
     ]
    },
    {
     "name": "stderr",
     "output_type": "stream",
     "text": [
      " 43%|█████████████████▎                      | 432/1000 [00:47<01:35,  5.93it/s]"
     ]
    },
    {
     "name": "stdout",
     "output_type": "stream",
     "text": [
      "episode 430 - test reward : 179.8 - avg : 29.89 - epsilon 0.11527836319047392\n"
     ]
    },
    {
     "name": "stderr",
     "output_type": "stream",
     "text": [
      " 44%|█████████████████▋                      | 441/1000 [00:49<02:03,  4.52it/s]"
     ]
    },
    {
     "name": "stdout",
     "output_type": "stream",
     "text": [
      "episode 440 - test reward : 194.0 - avg : 30.56 - epsilon 0.10964241905397228\n"
     ]
    },
    {
     "name": "stderr",
     "output_type": "stream",
     "text": [
      " 45%|██████████████████                      | 453/1000 [00:51<01:27,  6.26it/s]"
     ]
    },
    {
     "name": "stdout",
     "output_type": "stream",
     "text": [
      "episode 450 - test reward : 199.0 - avg : 30.66 - epsilon 0.1042820154910064\n"
     ]
    },
    {
     "name": "stderr",
     "output_type": "stream",
     "text": [
      " 46%|██████████████████▍                     | 461/1000 [00:52<01:57,  4.58it/s]"
     ]
    },
    {
     "name": "stdout",
     "output_type": "stream",
     "text": [
      "episode 460 - test reward : 195.3 - avg : 29.92 - epsilon 0.09918368135888474\n"
     ]
    },
    {
     "name": "stderr",
     "output_type": "stream",
     "text": [
      " 47%|██████████████████▉                     | 472/1000 [00:54<01:43,  5.12it/s]"
     ]
    },
    {
     "name": "stdout",
     "output_type": "stream",
     "text": [
      "episode 470 - test reward : 195.1 - avg : 28.25 - epsilon 0.0943346041173244\n"
     ]
    },
    {
     "name": "stderr",
     "output_type": "stream",
     "text": [
      " 48%|███████████████████▏                    | 480/1000 [00:55<01:00,  8.60it/s]"
     ]
    },
    {
     "name": "stdout",
     "output_type": "stream",
     "text": [
      "episode 480 - test reward : 188.2 - avg : 27.53 - epsilon 0.08972259762946533\n"
     ]
    },
    {
     "name": "stderr",
     "output_type": "stream",
     "text": [
      " 49%|███████████████████▊                    | 494/1000 [00:57<01:10,  7.19it/s]"
     ]
    },
    {
     "name": "stdout",
     "output_type": "stream",
     "text": [
      "episode 490 - test reward : 195.7 - avg : 27.84 - epsilon 0.08533607153708872\n"
     ]
    },
    {
     "name": "stderr",
     "output_type": "stream",
     "text": [
      " 50%|████████████████████                    | 500/1000 [00:58<00:52,  9.58it/s]"
     ]
    },
    {
     "name": "stdout",
     "output_type": "stream",
     "text": [
      "episode 500 - test reward : 194.0 - avg : 27.09 - epsilon 0.0811640021330769\n"
     ]
    },
    {
     "name": "stderr",
     "output_type": "stream",
     "text": [
      " 51%|████████████████████▍                   | 510/1000 [00:59<00:54,  9.06it/s]"
     ]
    },
    {
     "name": "stdout",
     "output_type": "stream",
     "text": [
      "episode 510 - test reward : 197.2 - avg : 27.09 - epsilon 0.07719590465791494\n"
     ]
    },
    {
     "name": "stderr",
     "output_type": "stream",
     "text": [
      " 52%|████████████████████▊                   | 521/1000 [01:03<02:53,  2.77it/s]"
     ]
    },
    {
     "name": "stdout",
     "output_type": "stream",
     "text": [
      "episode 520 - test reward : 200.0 - avg : 27.64 - epsilon 0.07342180695061275\n"
     ]
    },
    {
     "name": "stderr",
     "output_type": "stream",
     "text": [
      " 53%|█████████████████████▎                  | 532/1000 [01:06<01:55,  4.06it/s]"
     ]
    },
    {
     "name": "stdout",
     "output_type": "stream",
     "text": [
      "episode 530 - test reward : 196.2 - avg : 27.22 - epsilon 0.06983222438783\n"
     ]
    },
    {
     "name": "stderr",
     "output_type": "stream",
     "text": [
      " 54%|█████████████████████▌                  | 540/1000 [01:07<00:53,  8.56it/s]"
     ]
    },
    {
     "name": "stdout",
     "output_type": "stream",
     "text": [
      "episode 540 - test reward : 200.0 - avg : 26.51 - epsilon 0.06641813604822402\n"
     ]
    },
    {
     "name": "stderr",
     "output_type": "stream",
     "text": [
      " 55%|██████████████████████                  | 551/1000 [01:10<02:16,  3.28it/s]"
     ]
    },
    {
     "name": "stdout",
     "output_type": "stream",
     "text": [
      "episode 550 - test reward : 200.0 - avg : 26.0 - epsilon 0.06317096204211972\n"
     ]
    },
    {
     "name": "stderr",
     "output_type": "stream",
     "text": [
      " 56%|██████████████████████▍                 | 562/1000 [01:12<01:26,  5.06it/s]"
     ]
    },
    {
     "name": "stdout",
     "output_type": "stream",
     "text": [
      "episode 560 - test reward : 195.9 - avg : 25.78 - epsilon 0.06008254194952879\n"
     ]
    },
    {
     "name": "stderr",
     "output_type": "stream",
     "text": [
      " 57%|██████████████████████▉                 | 573/1000 [01:14<01:35,  4.49it/s]"
     ]
    },
    {
     "name": "stdout",
     "output_type": "stream",
     "text": [
      "episode 570 - test reward : 196.8 - avg : 25.89 - epsilon 0.05714511431233153\n"
     ]
    },
    {
     "name": "stderr",
     "output_type": "stream",
     "text": [
      " 58%|███████████████████████▎                | 582/1000 [01:16<01:37,  4.30it/s]"
     ]
    },
    {
     "name": "stdout",
     "output_type": "stream",
     "text": [
      "episode 580 - test reward : 195.2 - avg : 25.99 - epsilon 0.0543512971290831\n"
     ]
    },
    {
     "name": "stderr",
     "output_type": "stream",
     "text": [
      " 59%|███████████████████████▋                | 592/1000 [01:17<01:36,  4.23it/s]"
     ]
    },
    {
     "name": "stdout",
     "output_type": "stream",
     "text": [
      "episode 590 - test reward : 196.3 - avg : 25.15 - epsilon 0.05169406930342616\n"
     ]
    },
    {
     "name": "stderr",
     "output_type": "stream",
     "text": [
      " 60%|████████████████████████                | 602/1000 [01:19<01:22,  4.85it/s]"
     ]
    },
    {
     "name": "stdout",
     "output_type": "stream",
     "text": [
      "episode 600 - test reward : 199.5 - avg : 25.65 - epsilon 0.04916675299948831\n"
     ]
    },
    {
     "name": "stderr",
     "output_type": "stream",
     "text": [
      " 61%|████████████████████████▌               | 613/1000 [01:22<01:31,  4.24it/s]"
     ]
    },
    {
     "name": "stdout",
     "output_type": "stream",
     "text": [
      "episode 610 - test reward : 196.9 - avg : 25.24 - epsilon 0.04676299685992172\n"
     ]
    },
    {
     "name": "stderr",
     "output_type": "stream",
     "text": [
      " 62%|████████████████████████▉               | 624/1000 [01:24<01:07,  5.53it/s]"
     ]
    },
    {
     "name": "stdout",
     "output_type": "stream",
     "text": [
      "episode 620 - test reward : 200.0 - avg : 24.29 - epsilon 0.04447676004441063\n"
     ]
    },
    {
     "name": "stderr",
     "output_type": "stream",
     "text": [
      " 63%|█████████████████████████▏              | 630/1000 [01:24<00:41,  8.99it/s]"
     ]
    },
    {
     "name": "stdout",
     "output_type": "stream",
     "text": [
      "episode 630 - test reward : 197.4 - avg : 24.0 - epsilon 0.04230229704853423\n"
     ]
    },
    {
     "name": "stderr",
     "output_type": "stream",
     "text": [
      " 64%|█████████████████████████▋              | 641/1000 [01:28<02:24,  2.49it/s]"
     ]
    },
    {
     "name": "stdout",
     "output_type": "stream",
     "text": [
      "episode 640 - test reward : 197.9 - avg : 25.34 - epsilon 0.04023414326483323\n"
     ]
    },
    {
     "name": "stderr",
     "output_type": "stream",
     "text": [
      " 65%|██████████████████████████              | 653/1000 [01:30<01:15,  4.59it/s]"
     ]
    },
    {
     "name": "stdout",
     "output_type": "stream",
     "text": [
      "episode 650 - test reward : 198.4 - avg : 25.87 - epsilon 0.03826710124979409\n"
     ]
    },
    {
     "name": "stderr",
     "output_type": "stream",
     "text": [
      " 66%|██████████████████████████▌             | 663/1000 [01:32<01:14,  4.50it/s]"
     ]
    },
    {
     "name": "stdout",
     "output_type": "stream",
     "text": [
      "episode 660 - test reward : 196.3 - avg : 25.84 - epsilon 0.036396227662238566\n"
     ]
    },
    {
     "name": "stderr",
     "output_type": "stream",
     "text": [
      " 67%|██████████████████████████▉             | 672/1000 [01:34<01:11,  4.59it/s]"
     ]
    },
    {
     "name": "stdout",
     "output_type": "stream",
     "text": [
      "episode 670 - test reward : 188.3 - avg : 24.68 - epsilon 0.03461682084029365\n"
     ]
    },
    {
     "name": "stderr",
     "output_type": "stream",
     "text": [
      " 68%|███████████████████████████▎            | 682/1000 [01:36<01:36,  3.28it/s]"
     ]
    },
    {
     "name": "stdout",
     "output_type": "stream",
     "text": [
      "episode 680 - test reward : 199.7 - avg : 24.79 - epsilon 0.032924408985721944\n"
     ]
    },
    {
     "name": "stderr",
     "output_type": "stream",
     "text": [
      " 69%|███████████████████████████▋            | 693/1000 [01:38<00:51,  5.94it/s]"
     ]
    },
    {
     "name": "stdout",
     "output_type": "stream",
     "text": [
      "episode 690 - test reward : 198.2 - avg : 24.74 - epsilon 0.03131473892591842\n"
     ]
    },
    {
     "name": "stderr",
     "output_type": "stream",
     "text": [
      " 70%|████████████████████████████            | 701/1000 [01:40<01:49,  2.72it/s]"
     ]
    },
    {
     "name": "stdout",
     "output_type": "stream",
     "text": [
      "episode 700 - test reward : 196.7 - avg : 25.23 - epsilon 0.029783765425331846\n"
     ]
    },
    {
     "name": "stderr",
     "output_type": "stream",
     "text": [
      " 71%|████████████████████████████▍           | 711/1000 [01:42<01:07,  4.31it/s]"
     ]
    },
    {
     "name": "stdout",
     "output_type": "stream",
     "text": [
      "episode 710 - test reward : 183.4 - avg : 24.77 - epsilon 0.02832764101944931\n"
     ]
    },
    {
     "name": "stderr",
     "output_type": "stream",
     "text": [
      " 72%|████████████████████████████▉           | 722/1000 [01:44<00:57,  4.80it/s]"
     ]
    },
    {
     "name": "stdout",
     "output_type": "stream",
     "text": [
      "episode 720 - test reward : 187.4 - avg : 24.09 - epsilon 0.02694270634579598\n"
     ]
    },
    {
     "name": "stderr",
     "output_type": "stream",
     "text": [
      " 73%|█████████████████████████████▏          | 731/1000 [01:45<00:52,  5.12it/s]"
     ]
    },
    {
     "name": "stdout",
     "output_type": "stream",
     "text": [
      "episode 730 - test reward : 148.0 - avg : 24.14 - epsilon 0.02562548094765099\n"
     ]
    },
    {
     "name": "stderr",
     "output_type": "stream",
     "text": [
      " 74%|█████████████████████████████▋          | 743/1000 [01:47<00:46,  5.54it/s]"
     ]
    },
    {
     "name": "stdout",
     "output_type": "stream",
     "text": [
      "episode 740 - test reward : 156.0 - avg : 22.94 - epsilon 0.02437265452736848\n"
     ]
    },
    {
     "name": "stderr",
     "output_type": "stream",
     "text": [
      " 75%|██████████████████████████████          | 752/1000 [01:49<00:45,  5.43it/s]"
     ]
    },
    {
     "name": "stdout",
     "output_type": "stream",
     "text": [
      "episode 750 - test reward : 190.8 - avg : 22.12 - epsilon 0.023181078627322618\n"
     ]
    },
    {
     "name": "stderr",
     "output_type": "stream",
     "text": [
      " 76%|██████████████████████████████▌         | 763/1000 [01:50<00:35,  6.75it/s]"
     ]
    },
    {
     "name": "stdout",
     "output_type": "stream",
     "text": [
      "episode 760 - test reward : 166.2 - avg : 21.75 - epsilon 0.022047758717570132\n"
     ]
    },
    {
     "name": "stderr",
     "output_type": "stream",
     "text": [
      " 77%|██████████████████████████████▉         | 772/1000 [01:52<00:39,  5.75it/s]"
     ]
    },
    {
     "name": "stdout",
     "output_type": "stream",
     "text": [
      "episode 770 - test reward : 174.1 - avg : 21.87 - epsilon 0.020969846670345987\n"
     ]
    },
    {
     "name": "stderr",
     "output_type": "stream",
     "text": [
      " 78%|███████████████████████████████▏        | 781/1000 [01:53<00:41,  5.25it/s]"
     ]
    },
    {
     "name": "stdout",
     "output_type": "stream",
     "text": [
      "episode 780 - test reward : 137.1 - avg : 21.83 - epsilon 0.02\n"
     ]
    },
    {
     "name": "stderr",
     "output_type": "stream",
     "text": [
      " 79%|███████████████████████████████▌        | 789/1000 [01:54<00:18, 11.32it/s]"
     ]
    }
   ],
   "source": [
    "replay_buffer = deque(maxlen=size_replay_buffer)\n",
    "q_network = DuelingQNetwork(nb_actions,nb_observations)\n",
    "q_target_network = DuelingQNetwork(nb_actions,nb_observations)\n",
    "q_target_network.load_state_dict(q_network.state_dict())\n",
    "optimizer = torch.optim.Adam(q_network.parameters(), lr=learning_rate)\n",
    "list_tests_6 = []\n",
    "timestep = 0\n",
    "\n",
    "average_list = deque(maxlen=100)\n",
    "\n",
    "for episode in tqdm(range(nb_episode)) :\n",
    "    state = env.reset()\n",
    "    done = False\n",
    "    \n",
    "    cumul = 0\n",
    "    epsilon = max(epsilon * epsilon_decay,epsilon_min)\n",
    "    \n",
    "    while not done : \n",
    "        state_t = torch.as_tensor(state , dtype = torch.float32).unsqueeze(0)\n",
    "        \n",
    "        if random.random() < epsilon :\n",
    "            action = torch.argmax(q_network(state_t)).item()\n",
    "        else :\n",
    "            action = env.action_space.sample()\n",
    "            \n",
    "        new_state,reward,done,_ = env.step(action)\n",
    "\n",
    "        cumul += reward\n",
    "        \n",
    "        transition = (state,action,done,reward,new_state)\n",
    "        replay_buffer.append(transition)\n",
    "        \n",
    "        if len(replay_buffer) >= batch_size and timestep % update_frequency == 0 :\n",
    "        \n",
    "            batch = random.sample(replay_buffer,batch_size)\n",
    "\n",
    "            states = np.asarray([exp[0] for exp in batch],dtype=np.float32)\n",
    "            actions = np.asarray([exp[1] for exp in batch],dtype=int)\n",
    "            dones = np.asarray([exp[2] for exp in batch],dtype=int)\n",
    "            rewards = np.asarray([exp[3] for exp in batch],dtype=np.float32)\n",
    "            new_states = np.asarray([exp[4] for exp in batch],dtype=np.float32)\n",
    "            \n",
    "            states_t = torch.as_tensor(states , dtype=torch.float32)\n",
    "            dones_t = torch.as_tensor(dones , dtype = torch.int64).unsqueeze(1)\n",
    "            new_states_t = torch.as_tensor(new_states , dtype=torch.float32)\n",
    "            actions_t = torch.as_tensor(actions , dtype = torch.int64).unsqueeze(1)\n",
    "            rewards_t = torch.as_tensor(rewards , dtype=torch.float32).unsqueeze(1)\n",
    "            \n",
    "            \n",
    "            y_target = rewards_t + discount_factor * (1 - dones_t) * torch.gather(q_target_network(new_states_t),dim=1,index=torch.argmax(q_network(new_states_t),dim=1).unsqueeze(1)).detach()\n",
    "\n",
    "            mse = nn.MSELoss()\n",
    "\n",
    "            loss = mse(torch.gather(q_network(states_t),dim=1,index=actions_t), y_target)\n",
    "\n",
    "            optimizer.zero_grad()\n",
    "            loss.backward()\n",
    "            optimizer.step()\n",
    "            \n",
    "            for target_param, local_param in zip(q_target_network.parameters(), q_network.parameters()):\n",
    "                target_param.data.copy_(tau*local_param.data + (1.0-tau)*target_param.data)  \n",
    "                \n",
    "        timestep += 1\n",
    "        \n",
    "        state = new_state\n",
    "        \n",
    "    \n",
    "    average_list.append(cumul)\n",
    "    \n",
    "    if episode % test_frequency == 0 :\n",
    "        t =  0\n",
    "        for _ in range(10) :\n",
    "            t += test(q_network)\n",
    "        t /= 10\n",
    "        avg = sum(average_list) / len(average_list)\n",
    "        print(f\"episode {episode} - test reward : {t} - avg : {avg} - epsilon {epsilon}\")\n",
    "        list_tests_6.append(t)"
   ]
  },
  {
   "cell_type": "code",
   "execution_count": 11,
   "id": "1b92ccaf-7da2-469e-8446-7e8bab03d253",
   "metadata": {},
   "outputs": [
    {
     "data": {
      "image/png": "[encoded data removed]",
      "text/plain": [
       "<Figure size 432x288 with 1 Axes>"
      ]
     },
     "metadata": {
      "needs_background": "light"
     },
     "output_type": "display_data"
    }
   ],
   "source": [
    "plt.figure()\n",
    "plt.title(\"CartPole-v0 -rewards\")\n",
    "plt.xlabel(\"episode\")\n",
    "plt.ylabel(\"reward\")\n",
    "plt.plot(np.arange(0,nb_episode,test_frequency),list_tests_6)\n",
    "plt.show()"
   ]
  },
  {
   "cell_type": "code",
   "execution_count": null,
   "id": "531cae0d-95d7-4c70-97c3-528c950e1f05",
   "metadata": {},
   "outputs": [],
   "source": []
  }
 ],
 "metadata": {
  "kernelspec": {
   "display_name": "Python 3 (ipykernel)",
   "language": "python",
   "name": "python3"
  },
  "language_info": {
   "codemirror_mode": {
    "name": "ipython",
    "version": 3
   },
   "file_extension": ".py",
   "mimetype": "text/x-python",
   "name": "python",
   "nbconvert_exporter": "python",
   "pygments_lexer": "ipython3",
   "version": "3.8.10"
  }
 },
 "nbformat": 4,
 "nbformat_minor": 5
}
