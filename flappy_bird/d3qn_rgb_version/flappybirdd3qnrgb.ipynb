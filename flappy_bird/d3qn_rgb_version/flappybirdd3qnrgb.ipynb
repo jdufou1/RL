{
  "cells": [
    {
      "cell_type": "code",
      "execution_count": null,
      "metadata": {
        "colab": {
          "base_uri": "https://localhost:8080/"
        },
        "id": "M4mZmWxyUd0T",
        "outputId": "7c00b7f0-b6d3-4f05-d814-d4039c203197"
      },
      "outputs": [
        {
          "name": "stdout",
          "output_type": "stream",
          "text": [
            "Cloning into 'flappy-bird-gym'...\n",
            "remote: Enumerating objects: 159, done.\u001b[K\n",
            "remote: Counting objects:   4% (1/24)\u001b[K\rremote: Counting objects:   8% (2/24)\u001b[K\rremote: Counting objects:  12% (3/24)\u001b[K\rremote: Counting objects:  16% (4/24)\u001b[K\rremote: Counting objects:  20% (5/24)\u001b[K\rremote: Counting objects:  25% (6/24)\u001b[K\rremote: Counting objects:  29% (7/24)\u001b[K\rremote: Counting objects:  33% (8/24)\u001b[K\rremote: Counting objects:  37% (9/24)\u001b[K\rremote: Counting objects:  41% (10/24)\u001b[K\rremote: Counting objects:  45% (11/24)\u001b[K\rremote: Counting objects:  50% (12/24)\u001b[K\rremote: Counting objects:  54% (13/24)\u001b[K\rremote: Counting objects:  58% (14/24)\u001b[K\rremote: Counting objects:  62% (15/24)\u001b[K\rremote: Counting objects:  66% (16/24)\u001b[K\rremote: Counting objects:  70% (17/24)\u001b[K\rremote: Counting objects:  75% (18/24)\u001b[K\rremote: Counting objects:  79% (19/24)\u001b[K\rremote: Counting objects:  83% (20/24)\u001b[K\rremote: Counting objects:  87% (21/24)\u001b[K\rremote: Counting objects:  91% (22/24)\u001b[K\rremote: Counting objects:  95% (23/24)\u001b[K\rremote: Counting objects: 100% (24/24)\u001b[K\rremote: Counting objects: 100% (24/24), done.\u001b[K\n",
            "remote: Compressing objects: 100% (6/6), done.\u001b[K\n",
            "remote: Total 159 (delta 20), reused 18 (delta 18), pack-reused 135\u001b[K\n",
            "Receiving objects: 100% (159/159), 65.05 MiB | 48.84 MiB/s, done.\n",
            "Resolving deltas: 100% (82/82), done.\n"
          ]
        }
      ],
      "source": [
        "!git clone https://github.com/Talendar/flappy-bird-gym.git\n",
        "# Passer le boolean audio_on: bool = False dans \n",
        "# flappy-bird-gym/flappy_bird_gym/envs/renderer.py /"
      ],
      "id": "M4mZmWxyUd0T"
    },
    {
      "cell_type": "code",
      "execution_count": null,
      "metadata": {
        "colab": {
          "base_uri": "https://localhost:8080/"
        },
        "id": "awr4neo8Urjg",
        "outputId": "efdbcbd8-7b8f-44d6-d7a8-32056b615ec6"
      },
      "outputs": [
        {
          "name": "stdout",
          "output_type": "stream",
          "text": [
            "Looking in indexes: https://pypi.org/simple, https://us-python.pkg.dev/colab-wheels/public/simple/\n",
            "Collecting pygame\n",
            "  Downloading pygame-2.1.2-cp37-cp37m-manylinux_2_17_x86_64.manylinux2014_x86_64.whl (21.8 MB)\n",
            "\u001b[K     |████████████████████████████████| 21.8 MB 98.3 MB/s \n",
            "\u001b[?25hInstalling collected packages: pygame\n",
            "Successfully installed pygame-2.1.2\n"
          ]
        }
      ],
      "source": [
        "!pip install pygame"
      ],
      "id": "awr4neo8Urjg"
    },
    {
      "cell_type": "code",
      "execution_count": null,
      "metadata": {
        "id": "blmGmNnSU3Qs"
      },
      "outputs": [],
      "source": [
        "import os"
      ],
      "id": "blmGmNnSU3Qs"
    },
    {
      "cell_type": "code",
      "execution_count": null,
      "metadata": {
        "colab": {
          "base_uri": "https://localhost:8080/"
        },
        "id": "put_-KC9Uzyd",
        "outputId": "f30fe062-b712-499b-c8c9-9c52ae08385c"
      },
      "outputs": [
        {
          "name": "stdout",
          "output_type": "stream",
          "text": [
            "/content\n",
            "/content/flappy-bird-gym\n"
          ]
        }
      ],
      "source": [
        "print(os.getcwd())\n",
        "os.chdir(os.getcwd() + '/flappy-bird-gym/')\n",
        "print(os.getcwd())"
      ],
      "id": "put_-KC9Uzyd"
    },
    {
      "cell_type": "code",
      "execution_count": null,
      "metadata": {
        "id": "CIevNqdGVRBK"
      },
      "outputs": [],
      "source": [
        "from flappy_bird_gym.envs.flappy_bird_env_rgb import FlappyBirdEnvRGB"
      ],
      "id": "CIevNqdGVRBK"
    },
    {
      "cell_type": "code",
      "execution_count": null,
      "metadata": {
        "id": "tVXVNjtfVN3I"
      },
      "outputs": [],
      "source": [
        "env = FlappyBirdEnvRGB()"
      ],
      "id": "tVXVNjtfVN3I"
    },
    {
      "cell_type": "code",
      "execution_count": null,
      "metadata": {
        "colab": {
          "base_uri": "https://localhost:8080/"
        },
        "id": "N_udxuXjVW69",
        "outputId": "6d13beaf-84e7-4c07-bb56-07e23fd9765f"
      },
      "outputs": [
        {
          "name": "stdout",
          "output_type": "stream",
          "text": [
            "(288, 512, 3)\n"
          ]
        }
      ],
      "source": [
        "state = env.reset()\n",
        "print(state.shape)"
      ],
      "id": "N_udxuXjVW69"
    },
    {
      "cell_type": "markdown",
      "metadata": {
        "id": "64d04c3e-7839-4503-b2e5-9762318894fc"
      },
      "source": [
        "# Flappy Bird RGB version for D3QN"
      ],
      "id": "64d04c3e-7839-4503-b2e5-9762318894fc"
    },
    {
      "cell_type": "code",
      "execution_count": null,
      "metadata": {
        "id": "5572f5e2-18de-4e2c-b295-72d5ccfed086"
      },
      "outputs": [],
      "source": [
        "import torch\n",
        "import torch.nn as nn\n",
        "import numpy as np\n",
        "from tqdm import tqdm\n",
        "import random\n",
        "import matplotlib.pyplot as plt\n",
        "from collections import deque\n",
        "import time\n",
        "import cv2\n",
        "from torch.utils.tensorboard import SummaryWriter"
      ],
      "id": "5572f5e2-18de-4e2c-b295-72d5ccfed086"
    },
    {
      "cell_type": "code",
      "execution_count": null,
      "metadata": {
        "id": "eaca3fb5-8a53-4db8-8b94-c0808335567d"
      },
      "outputs": [],
      "source": [
        "env = FlappyBirdEnvRGB()"
      ],
      "id": "eaca3fb5-8a53-4db8-8b94-c0808335567d"
    },
    {
      "cell_type": "markdown",
      "metadata": {
        "id": "35396e31-ea8b-4054-b700-9ac3075ef14f"
      },
      "source": [
        "## Image pre processing"
      ],
      "id": "35396e31-ea8b-4054-b700-9ac3075ef14f"
    },
    {
      "cell_type": "code",
      "execution_count": null,
      "metadata": {
        "colab": {
          "base_uri": "https://localhost:8080/"
        },
        "id": "8e97aaab-d2d0-4bb0-861d-e7f8e3eefdc6",
        "outputId": "6c2c4627-f5d0-42be-f28e-bf068f518da5"
      },
      "outputs": [
        {
          "name": "stdout",
          "output_type": "stream",
          "text": [
            "(288, 512, 3)\n"
          ]
        }
      ],
      "source": [
        "state = env.reset()\n",
        "print(state.shape)"
      ],
      "id": "8e97aaab-d2d0-4bb0-861d-e7f8e3eefdc6"
    },
    {
      "cell_type": "markdown",
      "metadata": {
        "id": "8ab7801a-7e80-49f2-9b07-b7c6c1686354"
      },
      "source": [
        "As you can see, the state contains 288x512x3 values. Therefor, we will use conv layers to deal with these values."
      ],
      "id": "8ab7801a-7e80-49f2-9b07-b7c6c1686354"
    },
    {
      "cell_type": "code",
      "execution_count": null,
      "metadata": {
        "colab": {
          "base_uri": "https://localhost:8080/",
          "height": 257
        },
        "id": "b821acaa-62b8-4e69-872b-c92da14f4969",
        "outputId": "14388710-8283-4cf3-a657-304b710d3943"
      },
      "outputs": [
        {
          "data": {
            "text/plain": [
              "<matplotlib.image.AxesImage at 0x7f342232c910>"
            ]
          },
          "execution_count": 11,
          "metadata": {},
          "output_type": "execute_result"
        },
        {
          "data": {
            "image/png": "[encoded data removed]",
            "text/plain": [
              "<Figure size 432x288 with 1 Axes>"
            ]
          },
          "metadata": {},
          "output_type": "display_data"
        }
      ],
      "source": [
        "plt.figure()\n",
        "plt.imshow(state)"
      ],
      "id": "b821acaa-62b8-4e69-872b-c92da14f4969"
    },
    {
      "cell_type": "markdown",
      "metadata": {
        "id": "83212e65-b255-4942-aefc-350b06dfd83a"
      },
      "source": [
        "Here is the pic of the RGB state's representation"
      ],
      "id": "83212e65-b255-4942-aefc-350b06dfd83a"
    },
    {
      "cell_type": "code",
      "execution_count": null,
      "metadata": {
        "colab": {
          "base_uri": "https://localhost:8080/",
          "height": 285
        },
        "id": "82a55d9e-07c0-43d6-a7a1-ce076fef433c",
        "outputId": "1347001e-e3b4-472e-c595-4c15e6c5710c"
      },
      "outputs": [
        {
          "data": {
            "text/plain": [
              "<matplotlib.image.AxesImage at 0x7f3421dbfc90>"
            ]
          },
          "execution_count": 12,
          "metadata": {},
          "output_type": "execute_result"
        },
        {
          "data": {
            "image/png": "[encoded data removed]",
            "text/plain": [
              "<Figure size 432x288 with 1 Axes>"
            ]
          },
          "metadata": {},
          "output_type": "display_data"
        }
      ],
      "source": [
        "state_converted = cv2.cvtColor(cv2.resize(state, (80, 80)), cv2.COLOR_BGR2GRAY)\n",
        "plt.figure()\n",
        "plt.imshow(state_converted, cmap='gray')"
      ],
      "id": "82a55d9e-07c0-43d6-a7a1-ce076fef433c"
    },
    {
      "cell_type": "markdown",
      "metadata": {
        "id": "ef911b04-1b0d-4cd3-9aaf-69bf20033034"
      },
      "source": [
        "Here is the pic of the gray state's representation redimentioned with 80x80 ."
      ],
      "id": "ef911b04-1b0d-4cd3-9aaf-69bf20033034"
    },
    {
      "cell_type": "code",
      "execution_count": null,
      "metadata": {
        "colab": {
          "base_uri": "https://localhost:8080/",
          "height": 285
        },
        "id": "071ffba5-3253-416b-99f3-2a01617683cb",
        "outputId": "d131d02c-8f4b-425c-fc8a-829a0e9afadd"
      },
      "outputs": [
        {
          "data": {
            "text/plain": [
              "<matplotlib.image.AxesImage at 0x7f3422294210>"
            ]
          },
          "execution_count": 13,
          "metadata": {},
          "output_type": "execute_result"
        },
        {
          "data": {
            "image/png": "[encoded data removed]",
            "text/plain": [
              "<Figure size 432x288 with 1 Axes>"
            ]
          },
          "metadata": {},
          "output_type": "display_data"
        }
      ],
      "source": [
        "state_converted = cv2.adaptiveThreshold(state_converted,255,cv2.ADAPTIVE_THRESH_GAUSSIAN_C,\\\n",
        "            cv2.THRESH_BINARY,11,2)\n",
        "plt.figure()\n",
        "plt.imshow(state_converted, cmap='gray')"
      ],
      "id": "071ffba5-3253-416b-99f3-2a01617683cb"
    },
    {
      "cell_type": "code",
      "execution_count": null,
      "metadata": {
        "id": "2eb378d8-fe8c-4b84-a6f9-9ff904a512bd"
      },
      "outputs": [],
      "source": [
        "def test(q_network) :\n",
        "    \n",
        "    state = env.reset()\n",
        "    done = False\n",
        "    cum_sum = 0\n",
        "    while not done :\n",
        "        state_t = torch.as_tensor(state , dtype = torch.float32,device = device).unsqueeze(0)\n",
        "        action = torch.argmax(q_network(state_t)).item()\n",
        "        new_state,reward,done,_ = env.step(action)\n",
        "        state = new_state\n",
        "        cum_sum += reward\n",
        "        \n",
        "    return cum_sum"
      ],
      "id": "2eb378d8-fe8c-4b84-a6f9-9ff904a512bd"
    },
    {
      "cell_type": "code",
      "execution_count": null,
      "metadata": {
        "id": "569e2870-f1b6-4eeb-8179-d5a690f08e60"
      },
      "outputs": [],
      "source": [
        "\"\"\"\n",
        "Dueling Deep Q Network\n",
        "\"\"\"\n",
        "\n",
        "class DuelingQNetwork(nn.Module) :\n",
        "    \"\"\"\n",
        "    Implementation de la classe Dueling DQN\n",
        "    \"\"\"\n",
        "\n",
        "    def __init__(self,\n",
        "        nb_actions : int\n",
        "    ) : \n",
        "        \n",
        "        super().__init__()\n",
        "        self.nb_actions = nb_actions \n",
        "\n",
        "        # Linear -> ReLU -> Linear -> ReLU -> Linear\n",
        "        self.net =  nn.Sequential(\n",
        "            nn.Conv2d(4,32,8,stride = 4,padding=(0,0)),\n",
        "            nn.MaxPool2d(kernel_size=2 , padding=(0,0)),\n",
        "            nn.ReLU(),\n",
        "            nn.Conv2d(32,64,4,stride = 2 , padding = (1,1)),\n",
        "            nn.Dropout2d(),\n",
        "            nn.MaxPool2d(kernel_size=2, stride = 2,padding = (1,1)),\n",
        "            nn.ReLU(),\n",
        "            nn.Conv2d(64,64,3,stride = 1, padding = (1,1)),\n",
        "            nn.Dropout2d(),\n",
        "            nn.MaxPool2d(kernel_size=2, padding = (1,1)),\n",
        "            nn.Flatten(),\n",
        "            nn.Linear(256, 256),\n",
        "        )\n",
        "\n",
        "        # implementation pour la fonction avantage \n",
        "        # correspond a la sortie avantage du réseau de neurones\n",
        "        self.net_advantage = nn.Sequential(\n",
        "            nn.ReLU(),\n",
        "            nn.Linear(256, self.nb_actions)\n",
        "        )\n",
        "\n",
        "        # implementation pour la value function  \n",
        "        # correspond a la sortie value function du réseau de neurones\n",
        "        self.net_state_value = nn.Sequential(\n",
        "            nn.ReLU(),\n",
        "            nn.Linear(256,1)\n",
        "        )\n",
        "        \n",
        "    def advantage(self,x) :\n",
        "        return self.net_advantage(self.net(x))\n",
        "    \n",
        "    def state_value(self,x) :\n",
        "        return self.net_state_value(self.net(x))\n",
        "    \n",
        "    def forward(self,x) :\n",
        "        return self.state_value(x) + self.advantage(x) - torch.mean(self.advantage(x),dim=1).unsqueeze(1)"
      ],
      "id": "569e2870-f1b6-4eeb-8179-d5a690f08e60"
    },
    {
      "cell_type": "code",
      "execution_count": null,
      "metadata": {
        "id": "c75838ec-a20e-4f65-97c7-a51ed7e1bbc2"
      },
      "outputs": [],
      "source": [
        "class TrainModel :\n",
        "    \"\"\"\n",
        "    Class for training our D3QN Model\n",
        "    \"\"\"\n",
        "    def __init__(self,\n",
        "        nb_episode : int,\n",
        "        discount_factor : float,\n",
        "        learning_rate : float,\n",
        "        test_frequency : int,\n",
        "        nb_tests_iteration : int,\n",
        "        epsilon_decay : float,\n",
        "        epsilon_min : float,\n",
        "        batch_size : int,\n",
        "        size_replay_buffer : int,\n",
        "        update_frequency : int,\n",
        "        tau : float,\n",
        "        device\n",
        "    ) :\n",
        "        \n",
        "        \"\"\"\n",
        "        HYPER PARAMETERS\n",
        "        \"\"\"\n",
        "        \n",
        "        self.nb_episode = nb_episode # nombre d'episode d'entrainement\n",
        "        self.discount_factor = discount_factor # facteur d'actualisation\n",
        "        self.learning_rate = learning_rate # taux d'apprentissage\n",
        "        self.test_frequency = test_frequency # periode de test\n",
        "        self.nb_tests_iteration = nb_tests_iteration # periode d'affichage des tests\n",
        "        self.epsilon_decay = epsilon_decay # entre [0,1] coeficient multiplicateur de epsilon\n",
        "        self.epsilon_min = epsilon_min # valeur min de epsilon, jusqua combien elle peut diminuer\n",
        "        self.epsilon = 1.0 \n",
        "        self.batch_size = batch_size # taille du sous ensemble du replay buffer\n",
        "        self.size_replay_buffer = size_replay_buffer # taille du replay buyffer\n",
        "        self.update_frequency = update_frequency # periode de mise a jour du target network\n",
        "        self.tau = tau # facteur de synchronisation\n",
        "        \n",
        "        self.writer = SummaryWriter(\"./logs/d3qn_flappy_bird_rgb_rewards\")\n",
        "        \n",
        "        \n",
        "        \"\"\"\n",
        "        QNETWORK, QTARGETNETWORK AND BESTMODEL\n",
        "        \"\"\"\n",
        "        self.device = device\n",
        "\n",
        "        self.q_network , self.q_target_network, self.best_model = self.initialisation_q_networks() # initialisation et copie du q_network\n",
        "        self.best_value = -1e10\n",
        "        \n",
        "        \"\"\"\n",
        "        TESTING\n",
        "        \"\"\"\n",
        "        self.list_mean_rewards = list() \n",
        "        self.list_std_rewards = list()\n",
        "        \n",
        "    def initialisation_q_networks(self) :\n",
        "        \"\"\"\n",
        "        return :\n",
        "            q_network : DuelingQNetwork\n",
        "            q_target_network : DuelingQNetwork\n",
        "            best_model : DuelingQNetwork\n",
        "        \"\"\"\n",
        "        # initialisation des réseaux de neurones\n",
        "\n",
        "        q_network = DuelingQNetwork(\n",
        "            nb_actions = nb_actions\n",
        "        ).to(self.device)\n",
        "        \n",
        "        q_target_network = DuelingQNetwork(\n",
        "            nb_actions = nb_actions\n",
        "        ).to(self.device)\n",
        "        \n",
        "        best_model = DuelingQNetwork(\n",
        "            nb_actions = nb_actions\n",
        "        ).to(self.device)\n",
        "        \n",
        "        \"\"\" q_network copy \"\"\"\n",
        "        q_target_network.load_state_dict(q_network.state_dict())\n",
        "        best_model.load_state_dict(q_network.state_dict())\n",
        "\n",
        "        # on utilise comme optimizer Adam (a tester avec d'autres) \n",
        "        self.optimizer = torch.optim.Adam(q_network.parameters(), lr=self.learning_rate) \n",
        "        \n",
        "        return q_network , q_target_network, best_model\n",
        "        \n",
        "        \n",
        "    def pre_processing(self,state,old_frame = None) : \n",
        "        \"\"\"\n",
        "            input : np.array : \n",
        "            return : torch.tensor : \n",
        "        \"\"\"\n",
        "        if old_frame is None : \n",
        "            state_converted = cv2.cvtColor(cv2.resize(state, (80, 80)), cv2.COLOR_BGR2GRAY)\n",
        "            state_stacked = np.stack((state_converted, state_converted, state_converted, state_converted), axis=2)\n",
        "            state_t = torch.as_tensor(state_stacked , device = self.device, dtype = torch.float32).unsqueeze(0).transpose(3 , 1)\n",
        "        else :\n",
        "            new_state_converted = cv2.cvtColor(cv2.resize(state, (80, 80)), cv2.COLOR_BGR2GRAY)\n",
        "            new_state_converted = new_state_converted.reshape(new_state_converted.shape[0],new_state_converted.shape[1],1 )\n",
        "            state_stacked = np.append(new_state_converted, old_frame[:, :, :3], axis = 2)\n",
        "            state_t = torch.as_tensor(state_stacked , device = self.device, dtype = torch.float32).unsqueeze(0).transpose(3 , 1)\n",
        "            \n",
        "        return state_stacked,state_t\n",
        "        \n",
        "        \n",
        "    def training(self) :\n",
        "        \n",
        "        start_time = time.time()\n",
        "        replay_buffer = deque(maxlen=self.size_replay_buffer) # on utilise une file \n",
        "        timestep = 0\n",
        "        \n",
        "        env = FlappyBirdEnvRGB()\n",
        "        \n",
        "        for episode in range(self.nb_episode) :\n",
        "            state = env.reset()\n",
        "            state,state_t = self.pre_processing(state)\n",
        "            done = False\n",
        "            cumul = 0 # reward total\n",
        "            \n",
        "            self.epsilon = max(self.epsilon * self.epsilon_decay,self.epsilon_min)\n",
        "    \n",
        "            while not done : \n",
        "                \n",
        "                # epsilon-greedy pour la selection de l'action \n",
        "                if random.random() > self.epsilon : \n",
        "                    action = torch.argmax(self.q_network(state_t)).item()\n",
        "                else :\n",
        "                    action = env.action_space.sample()\n",
        "            \n",
        "                new_state,reward,done,_ = env.step(action)\n",
        "\n",
        "                new_state_stacked,new_state_t = self.pre_processing(new_state,state)\n",
        "                \n",
        "                cumul += reward\n",
        "                \n",
        "                transition = (state_t,action,done,reward,new_state_t) # a ajouter dans le replay buffer\n",
        "                replay_buffer.append(transition)\n",
        "\n",
        "                if len(replay_buffer) >= self.batch_size and timestep % self.update_frequency == 0 :\n",
        "                    \n",
        "                    # selection du batch aleatoirement\n",
        "                    batch = random.sample(replay_buffer,self.batch_size)\n",
        "\n",
        "                    # transformation en tensor\n",
        "                    \n",
        "                    states = [exp[0] for exp in batch]\n",
        "                    actions = np.asarray([exp[1] for exp in batch],dtype=int)\n",
        "                    dones = np.asarray([exp[2] for exp in batch],dtype=int)\n",
        "                    rewards = np.asarray([exp[3] for exp in batch],dtype=np.float32)\n",
        "                    new_states = [exp[4] for exp in batch]\n",
        "                    \n",
        "                    states_t = torch.stack(states).squeeze(1)\n",
        "                    new_states_t = torch.stack(new_states).squeeze(1)\n",
        "\n",
        "                    # states_t = torch.as_tensor(states , dtype=torch.float32, device = self.device)\n",
        "                    dones_t = torch.as_tensor(dones , dtype = torch.int64, device = self.device).unsqueeze(1)\n",
        "                    # new_states_t = torch.as_tensor(new_states , dtype=torch.float32, device = self.device)\n",
        "                    actions_t = torch.as_tensor(actions , dtype = torch.int64, device = self.device).unsqueeze(1)\n",
        "                    rewards_t = torch.as_tensor(rewards , dtype=torch.float32, device = self.device).unsqueeze(1)\n",
        "\n",
        "                    # l'esperance des futurs rewards\n",
        "                    y_target = (rewards_t + \n",
        "                                self.discount_factor * \n",
        "                                (1 - dones_t) * \n",
        "                                torch.gather(self.q_target_network(new_states_t),dim=1,index=torch.argmax(self.q_network(new_states_t),dim=1).unsqueeze(1)).detach())\n",
        "\n",
        "                    # descente de gradient \n",
        "                    mse = nn.MSELoss()\n",
        "                    loss = mse(torch.gather(self.q_network(states_t),dim=1,index=actions_t), y_target)\n",
        "                    self.optimizer.zero_grad()\n",
        "                    loss.backward()\n",
        "                    self.optimizer.step()\n",
        "                    self.update_q_target_network()\n",
        "\n",
        "                timestep += 1\n",
        "                state = new_state_stacked\n",
        "                state_t = new_state_t\n",
        "            \n",
        "            # Partie Test\n",
        "            if episode % self.test_frequency == 0 :\n",
        "                \n",
        "                mean_rewards, std_rewards = self.testing()\n",
        "                \n",
        "                self.list_mean_rewards.append( mean_rewards )\n",
        "                self.list_std_rewards.append( std_rewards )\n",
        "                \n",
        "                end_time = time.time()\n",
        "                diff_time = end_time - start_time\n",
        "                start_time = time.time()\n",
        "                \"\"\"\n",
        "                Keep the best model\n",
        "                \"\"\"\n",
        "                if mean_rewards > self.best_value :\n",
        "                    self.best_value = mean_rewards\n",
        "                    self.best_model.load_state_dict(self.q_network.state_dict())\n",
        "                \n",
        "                \"\"\"\n",
        "                display :\n",
        "                \"\"\"\n",
        "                self.writer.add_scalar('TP3 : rewards FlappyBird', mean_rewards, episode)\n",
        "                print(f\"({(episode/self.nb_episode*100)}%) - Episode : {episode} - mean rewards : {mean_rewards} - std rewards : {std_rewards} - eps : {self.epsilon} - time : {diff_time}s - best value : {self.best_value}\")\n",
        "        \n",
        "        \n",
        "    def update_q_target_network(self) : \n",
        "        \"\"\" update du q-target en fonction du tau\"\"\"   \n",
        "        for target_param, local_param in zip(self.q_target_network.parameters(), self.q_network.parameters()):\n",
        "            target_param.data.copy_(self.tau*local_param.data + (1.0-self.tau)*target_param.data)  \n",
        "        \n",
        "        \n",
        "    def testing(self) :\n",
        "        \"\"\"\n",
        "            return :\n",
        "                list_cum_sum.mean : float\n",
        "                list_cum_sum.std : float\n",
        "        \"\"\"\n",
        "        list_cum_sum = list()\n",
        "        for i in range(self.nb_tests_iteration) :\n",
        "            list_cum_sum.append(self.one_test_model())\n",
        "            \n",
        "        list_cum_sum = np.asarray(list_cum_sum , dtype=np.float32)    \n",
        "        \n",
        "        return list_cum_sum.mean(), list_cum_sum.std()\n",
        "    \n",
        "            \n",
        "    def one_test_model(self) :\n",
        "        \"\"\"\n",
        "            return :\n",
        "                cum_sum : float (reward of an episode with the current q_network)\n",
        "        \"\"\"\n",
        "        random.seed(10)\n",
        "        \n",
        "        env = FlappyBirdEnvRGB()\n",
        "        \n",
        "        state = env.reset()\n",
        "        state,state_t = self.pre_processing(state)\n",
        "        done = False\n",
        "        cum_sum = 0.0\n",
        "        while not done :\n",
        "            action = torch.argmax(self.q_network(state_t)).item()\n",
        "            new_state,reward,done,_ = env.step(action)\n",
        "            new_state_stacked,new_state_t = self.pre_processing(new_state,state)\n",
        "            \n",
        "            state = new_state_stacked\n",
        "            state_t = new_state_t\n",
        "            cum_sum += reward\n",
        "                \n",
        "        return cum_sum\n",
        "    \n",
        "    def save_best_model(self) :\n",
        "        path = \"best_model_d3qn_lunarlanderdiscret\" + str(self.best_value)\n",
        "        torch.save(self.best_model.state_dict(),path)"
      ],
      "id": "c75838ec-a20e-4f65-97c7-a51ed7e1bbc2"
    },
    {
      "cell_type": "markdown",
      "metadata": {
        "id": "0a5544ba-fdda-48b5-b171-e6554301c063"
      },
      "source": [
        "## Hyper-parameters"
      ],
      "id": "0a5544ba-fdda-48b5-b171-e6554301c063"
    },
    {
      "cell_type": "code",
      "execution_count": null,
      "metadata": {
        "colab": {
          "base_uri": "https://localhost:8080/"
        },
        "id": "7f641342-7a1d-4575-be9b-f644b75a890e",
        "outputId": "1a659461-0acf-45c5-b0af-c45702b981be"
      },
      "outputs": [
        {
          "name": "stdout",
          "output_type": "stream",
          "text": [
            "device used cpu\n"
          ]
        }
      ],
      "source": [
        "device = torch.device(\"cpu\") # torch.device(\"cuda\" if torch.cuda.is_available() else \"cpu\")\n",
        "print(f\"device used {device}\")\n",
        "nb_episode = 10000000\n",
        "discount_factor = 0.99\n",
        "learning_rate = 0.0003\n",
        "test_frequency = 10\n",
        "nb_tests_iteration = 10\n",
        "epsilon_decay = 0.995\n",
        "epsilon_min = 0.01\n",
        "epsilon = 1.0\n",
        "batch_size = 64\n",
        "size_replay_buffer = 50000\n",
        "update_frequency = 1\n",
        "tau = 1e-3"
      ],
      "id": "7f641342-7a1d-4575-be9b-f644b75a890e"
    },
    {
      "cell_type": "markdown",
      "metadata": {
        "id": "41a7478b-44e7-4e57-9fd8-bde50912fb5a"
      },
      "source": [
        "## Initialisation"
      ],
      "id": "41a7478b-44e7-4e57-9fd8-bde50912fb5a"
    },
    {
      "cell_type": "code",
      "execution_count": null,
      "metadata": {
        "id": "4f850ce3-3fe0-4863-aa22-ffada6b981b5"
      },
      "outputs": [],
      "source": [
        "nb_actions = 2\n",
        "\n",
        "train_model = TrainModel(\n",
        "      nb_episode = nb_episode,\n",
        "      discount_factor = discount_factor,\n",
        "      learning_rate = learning_rate,\n",
        "      test_frequency = test_frequency,\n",
        "      nb_tests_iteration = nb_tests_iteration,\n",
        "      epsilon_decay = epsilon_decay,\n",
        "      epsilon_min = epsilon_min,\n",
        "      batch_size = int(batch_size),\n",
        "      size_replay_buffer = size_replay_buffer,\n",
        "      update_frequency = update_frequency,\n",
        "      tau = tau,\n",
        "      device = device\n",
        ")"
      ],
      "id": "4f850ce3-3fe0-4863-aa22-ffada6b981b5"
    },
    {
      "cell_type": "code",
      "execution_count": null,
      "metadata": {
        "colab": {
          "background_save": true,
          "base_uri": "https://localhost:8080/"
        },
        "id": "03ed2d73-489c-4d49-8948-38091e918cde",
        "outputId": "17bcaaf9-be96-4a09-da33-b6a41b9c1118"
      },
      "outputs": [
        {
          "name": "stdout",
          "output_type": "stream",
          "text": [
            "(0.0%) - Episode : 0 - mean rewards : 101.0 - std rewards : 0.0 - eps : 0.995 - time : 11.373182773590088s - best value : 101.0\n",
            "(9.999999999999999e-05%) - Episode : 10 - mean rewards : 101.0 - std rewards : 0.0 - eps : 0.946354579813443 - time : 190.39256405830383s - best value : 101.0\n",
            "(0.00019999999999999998%) - Episode : 20 - mean rewards : 101.0 - std rewards : 0.0 - eps : 0.9000874278732445 - time : 189.4466164112091s - best value : 101.0\n",
            "(0.00030000000000000003%) - Episode : 30 - mean rewards : 101.0 - std rewards : 0.0 - eps : 0.8560822709551227 - time : 189.17620968818665s - best value : 101.0\n",
            "(0.00039999999999999996%) - Episode : 40 - mean rewards : 101.0 - std rewards : 0.0 - eps : 0.8142285204175609 - time : 189.51159286499023s - best value : 101.0\n",
            "(0.0005%) - Episode : 50 - mean rewards : 101.0 - std rewards : 0.0 - eps : 0.7744209942832988 - time : 196.52842450141907s - best value : 101.0\n",
            "(0.0006000000000000001%) - Episode : 60 - mean rewards : 101.0 - std rewards : 0.0 - eps : 0.736559652908221 - time : 189.2772557735443s - best value : 101.0\n",
            "(0.0007%) - Episode : 70 - mean rewards : 101.0 - std rewards : 0.0 - eps : 0.7005493475733617 - time : 189.9049105644226s - best value : 101.0\n",
            "(0.0007999999999999999%) - Episode : 80 - mean rewards : 101.0 - std rewards : 0.0 - eps : 0.6662995813682115 - time : 187.781809091568s - best value : 101.0\n",
            "(0.0009%) - Episode : 90 - mean rewards : 101.0 - std rewards : 0.0 - eps : 0.6337242817644086 - time : 189.68654704093933s - best value : 101.0\n",
            "(0.001%) - Episode : 100 - mean rewards : 101.0 - std rewards : 0.0 - eps : 0.6027415843082742 - time : 187.5110218524933s - best value : 101.0\n",
            "(0.0011%) - Episode : 110 - mean rewards : 101.0 - std rewards : 0.0 - eps : 0.5732736268885887 - time : 188.70281076431274s - best value : 101.0\n",
            "(0.0012000000000000001%) - Episode : 120 - mean rewards : 101.0 - std rewards : 0.0 - eps : 0.5452463540625918 - time : 187.8171877861023s - best value : 101.0\n",
            "(0.0013%) - Episode : 130 - mean rewards : 101.0 - std rewards : 0.0 - eps : 0.5185893309484582 - time : 187.99525570869446s - best value : 101.0\n",
            "(0.0014%) - Episode : 140 - mean rewards : 101.0 - std rewards : 0.0 - eps : 0.4932355662165453 - time : 187.91548538208008s - best value : 101.0\n",
            "(0.0015%) - Episode : 150 - mean rewards : 101.0 - std rewards : 0.0 - eps : 0.46912134373457726 - time : 190.1013126373291s - best value : 101.0\n",
            "(0.0015999999999999999%) - Episode : 160 - mean rewards : 101.0 - std rewards : 0.0 - eps : 0.446186062443672 - time : 189.49446272850037s - best value : 101.0\n",
            "(0.0017%) - Episode : 170 - mean rewards : 101.0 - std rewards : 0.0 - eps : 0.42437208406280985 - time : 186.81832027435303s - best value : 101.0\n",
            "(0.0018%) - Episode : 180 - mean rewards : 32.0 - std rewards : 0.0 - eps : 0.4036245882390106 - time : 183.66482591629028s - best value : 101.0\n",
            "(0.0019000000000000002%) - Episode : 190 - mean rewards : 101.0 - std rewards : 0.0 - eps : 0.38389143477919885 - time : 188.8117744922638s - best value : 101.0\n",
            "(0.002%) - Episode : 200 - mean rewards : 60.900001525878906 - std rewards : 24.043500900268555 - eps : 0.36512303261753626 - time : 184.8393816947937s - best value : 101.0\n",
            "(0.0021%) - Episode : 210 - mean rewards : 101.0 - std rewards : 0.0 - eps : 0.3472722151889232 - time : 187.5240137577057s - best value : 101.0\n",
            "(0.0022%) - Episode : 220 - mean rewards : 101.0 - std rewards : 0.0 - eps : 0.3302941218954743 - time : 186.4694893360138s - best value : 101.0\n",
            "(0.0023%) - Episode : 230 - mean rewards : 101.0 - std rewards : 0.0 - eps : 0.3141460853680822 - time : 186.76362586021423s - best value : 101.0\n",
            "(0.0024000000000000002%) - Episode : 240 - mean rewards : 101.0 - std rewards : 0.0 - eps : 0.2987875242397482 - time : 186.58040475845337s - best value : 101.0\n",
            "(0.0025%) - Episode : 250 - mean rewards : 102.30000305175781 - std rewards : 2.6851444244384766 - eps : 0.28417984116121187 - time : 187.17111802101135s - best value : 102.30000305175781\n",
            "(0.0026%) - Episode : 260 - mean rewards : 101.0 - std rewards : 0.0 - eps : 0.2702863258025825 - time : 185.88067412376404s - best value : 102.30000305175781\n",
            "(0.0026999999999999997%) - Episode : 270 - mean rewards : 33.900001525878906 - std rewards : 5.700000286102295 - eps : 0.2570720625972084 - time : 183.29823184013367s - best value : 102.30000305175781\n",
            "(0.0028%) - Episode : 280 - mean rewards : 38.900001525878906 - std rewards : 20.69999885559082 - eps : 0.24450384299593592 - time : 183.0995442867279s - best value : 102.30000305175781\n",
            "(0.0029%) - Episode : 290 - mean rewards : 101.0 - std rewards : 0.0 - eps : 0.23255008201124722 - time : 185.05667853355408s - best value : 102.30000305175781\n",
            "(0.003%) - Episode : 300 - mean rewards : 101.0 - std rewards : 0.0 - eps : 0.2211807388415433 - time : 186.46160292625427s - best value : 102.30000305175781\n",
            "(0.0031000000000000003%) - Episode : 310 - mean rewards : 51.20000076293945 - std rewards : 26.09137725830078 - eps : 0.21036724137609603 - time : 182.55608820915222s - best value : 102.30000305175781\n",
            "(0.0031999999999999997%) - Episode : 320 - mean rewards : 37.79999923706055 - std rewards : 8.885944366455078 - eps : 0.2000824143909432 - time : 182.9148027896881s - best value : 102.30000305175781\n",
            "(0.0033000000000000004%) - Episode : 330 - mean rewards : 101.0 - std rewards : 0.0 - eps : 0.1903004112552766 - time : 185.40043950080872s - best value : 102.30000305175781\n",
            "(0.0034%) - Episode : 340 - mean rewards : 32.0 - std rewards : 0.0 - eps : 0.18099664897669618 - time : 182.77841448783875s - best value : 102.30000305175781\n",
            "(0.0034999999999999996%) - Episode : 350 - mean rewards : 101.0 - std rewards : 0.0 - eps : 0.17214774642209296 - time : 185.32796835899353s - best value : 102.30000305175781\n",
            "(0.0036%) - Episode : 360 - mean rewards : 45.400001525878906 - std rewards : 20.406862258911133 - eps : 0.16373146555890544 - time : 183.62590837478638s - best value : 102.30000305175781\n",
            "(0.0036999999999999997%) - Episode : 370 - mean rewards : 80.30000305175781 - std rewards : 31.619773864746094 - eps : 0.1557266555690826 - time : 183.06145477294922s - best value : 102.30000305175781\n",
            "(0.0038000000000000004%) - Episode : 380 - mean rewards : 101.69999694824219 - std rewards : 2.0999999046325684 - eps : 0.14811319969530845 - time : 183.9377691745758s - best value : 102.30000305175781\n",
            "(0.0039%) - Episode : 390 - mean rewards : 101.0 - std rewards : 0.0 - eps : 0.14087196468590776 - time : 183.58922171592712s - best value : 102.30000305175781\n",
            "(0.004%) - Episode : 400 - mean rewards : 101.0 - std rewards : 0.0 - eps : 0.13398475271138335 - time : 184.8814606666565s - best value : 102.30000305175781\n",
            "(0.0041%) - Episode : 410 - mean rewards : 32.0 - std rewards : 0.0 - eps : 0.12743425563174798 - time : 182.24563550949097s - best value : 102.30000305175781\n",
            "(0.0042%) - Episode : 420 - mean rewards : 101.0 - std rewards : 0.0 - eps : 0.12120401149972035 - time : 183.00674104690552s - best value : 102.30000305175781\n",
            "(0.0043%) - Episode : 430 - mean rewards : 101.0 - std rewards : 0.0 - eps : 0.11527836319047392 - time : 183.4509198665619s - best value : 102.30000305175781\n",
            "(0.0044%) - Episode : 440 - mean rewards : 101.0 - std rewards : 0.0 - eps : 0.10964241905397228 - time : 184.86591291427612s - best value : 102.30000305175781\n",
            "(0.0045000000000000005%) - Episode : 450 - mean rewards : 101.0 - std rewards : 0.0 - eps : 0.1042820154910064 - time : 183.30594325065613s - best value : 102.30000305175781\n",
            "(0.0046%) - Episode : 460 - mean rewards : 101.0 - std rewards : 0.0 - eps : 0.09918368135888474 - time : 182.82947540283203s - best value : 102.30000305175781\n",
            "(0.004699999999999999%) - Episode : 470 - mean rewards : 101.0 - std rewards : 0.0 - eps : 0.0943346041173244 - time : 182.04575514793396s - best value : 102.30000305175781\n",
            "(0.0048000000000000004%) - Episode : 480 - mean rewards : 101.0 - std rewards : 0.0 - eps : 0.08972259762946533 - time : 183.21804928779602s - best value : 102.30000305175781\n",
            "(0.0049%) - Episode : 490 - mean rewards : 101.0 - std rewards : 0.0 - eps : 0.08533607153708872 - time : 183.0915162563324s - best value : 102.30000305175781\n",
            "(0.005%) - Episode : 500 - mean rewards : 102.9000015258789 - std rewards : 2.9816102981567383 - eps : 0.0811640021330769 - time : 182.96433901786804s - best value : 102.9000015258789\n",
            "(0.0051%) - Episode : 510 - mean rewards : 56.900001525878906 - std rewards : 25.970945358276367 - eps : 0.07719590465791494 - time : 181.775484085083s - best value : 102.9000015258789\n",
            "(0.0052%) - Episode : 520 - mean rewards : 32.0 - std rewards : 0.0 - eps : 0.07342180695061275 - time : 180.6552438735962s - best value : 102.9000015258789\n",
            "(0.0053%) - Episode : 530 - mean rewards : 32.0 - std rewards : 0.0 - eps : 0.06983222438783 - time : 180.2750322818756s - best value : 102.9000015258789\n",
            "(0.005399999999999999%) - Episode : 540 - mean rewards : 32.0 - std rewards : 0.0 - eps : 0.06641813604822402 - time : 180.0826096534729s - best value : 102.9000015258789\n",
            "(0.0055000000000000005%) - Episode : 550 - mean rewards : 101.0 - std rewards : 0.0 - eps : 0.06317096204211972 - time : 183.01845026016235s - best value : 102.9000015258789\n",
            "(0.0056%) - Episode : 560 - mean rewards : 35.79999923706055 - std rewards : 7.599999904632568 - eps : 0.06008254194952879 - time : 180.6097104549408s - best value : 102.9000015258789\n",
            "(0.0057%) - Episode : 570 - mean rewards : 101.0 - std rewards : 0.0 - eps : 0.05714511431233153 - time : 181.86912441253662s - best value : 102.9000015258789\n",
            "(0.0058%) - Episode : 580 - mean rewards : 101.0 - std rewards : 0.0 - eps : 0.0543512971290831 - time : 181.54637217521667s - best value : 102.9000015258789\n"
          ]
        }
      ],
      "source": [
        "train_model.training()"
      ],
      "id": "03ed2d73-489c-4d49-8948-38091e918cde"
    },
    {
      "cell_type": "code",
      "execution_count": null,
      "metadata": {
        "id": "53f72664-3fa7-46df-b8fe-99c6303c0043"
      },
      "outputs": [],
      "source": [
        "train_model.save_best_model()"
      ],
      "id": "53f72664-3fa7-46df-b8fe-99c6303c0043"
    }
  ],
  "metadata": {
    "accelerator": "GPU",
    "colab": {
      "provenance": []
    },
    "kernelspec": {
      "display_name": "Python 3 (ipykernel)",
      "language": "python",
      "name": "python3"
    },
    "language_info": {
      "codemirror_mode": {
        "name": "ipython",
        "version": 3
      },
      "file_extension": ".py",
      "mimetype": "text/x-python",
      "name": "python",
      "nbconvert_exporter": "python",
      "pygments_lexer": "ipython3",
      "version": "3.8.10"
    }
  },
  "nbformat": 4,
  "nbformat_minor": 5
}