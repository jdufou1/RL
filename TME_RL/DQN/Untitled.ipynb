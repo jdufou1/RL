{
 "cells": [
  {
   "cell_type": "code",
   "execution_count": 4,
   "id": "4cad1056-976c-4fcc-9857-20dd855333ad",
   "metadata": {},
   "outputs": [
    {
     "name": "stdout",
     "output_type": "stream",
     "text": [
      "5\n"
     ]
    }
   ],
   "source": [
    "i = [1,2,3,4,5,6]\n",
    "print(i[-2])"
   ]
  },
  {
   "cell_type": "code",
   "execution_count": 5,
   "id": "77ffd79e-583d-4609-adb5-32ec54a77166",
   "metadata": {},
   "outputs": [],
   "source": [
    "from math import sin"
   ]
  },
  {
   "cell_type": "code",
   "execution_count": 6,
   "id": "30e26366-1b91-4419-89d5-13ac6c4c0ecd",
   "metadata": {},
   "outputs": [
    {
     "data": {
      "text/plain": [
       "-0.9589242746631385"
      ]
     },
     "execution_count": 6,
     "metadata": {},
     "output_type": "execute_result"
    }
   ],
   "source": [
    "sin(5)"
   ]
  },
  {
   "cell_type": "code",
   "execution_count": 7,
   "id": "5f909ab1-648a-4f3f-8958-dc3444d2ac82",
   "metadata": {},
   "outputs": [
    {
     "name": "stdout",
     "output_type": "stream",
     "text": [
      "{1, 2, 3, 4}\n"
     ]
    }
   ],
   "source": [
    "x = {1,2,3}\n",
    "x.add(3)\n",
    "x.add(4)\n",
    "print(x)"
   ]
  },
  {
   "cell_type": "code",
   "execution_count": 1,
   "id": "82523bc8-da14-4cd7-b7ca-6b3b90513224",
   "metadata": {},
   "outputs": [],
   "source": [
    "import torch"
   ]
  },
  {
   "cell_type": "code",
   "execution_count": 45,
   "id": "6897ebbe-edbe-420c-9614-655501ce161a",
   "metadata": {},
   "outputs": [
    {
     "name": "stdout",
     "output_type": "stream",
     "text": [
      "OrderedDict([('0.weight', tensor([[ 0.0939,  0.4384,  0.3160,  0.3838],\n",
      "        [-0.1212,  0.2368, -0.2425,  0.2675],\n",
      "        [ 0.2670, -0.4848, -0.0886, -0.3443],\n",
      "        [ 0.4202,  0.0071,  0.4319,  0.4826],\n",
      "        [-0.3548,  0.0416,  0.4812, -0.0338]])), ('0.bias', tensor([ 4.5143e-01, -4.2366e-01,  6.8257e-02,  1.6548e-01, -1.4728e-04])), ('2.weight', tensor([[-0.1726, -0.0908,  0.3564, -0.3988, -0.1078],\n",
      "        [ 0.0274,  0.2151, -0.3052, -0.0119,  0.1076],\n",
      "        [ 0.4391, -0.0397,  0.4101, -0.0462, -0.2995],\n",
      "        [-0.1188,  0.2931, -0.2924,  0.0457,  0.0563]])), ('2.bias', tensor([ 0.1093,  0.1346,  0.1007, -0.2237])), ('4.weight', tensor([[-0.0729,  0.4099, -0.2600,  0.1780],\n",
      "        [-0.4748,  0.3381,  0.4188, -0.1520]])), ('4.bias', tensor([0.4063, 0.3594]))])\n"
     ]
    }
   ],
   "source": [
    "\n",
    "nb_obs = 4\n",
    "nb_action = 2\n",
    "\n",
    "\n",
    "linear1 = torch.nn.Linear(nb_obs,5)\n",
    "linear2 = torch.nn.Linear(5,4)\n",
    "linear3 = torch.nn.Linear(4,nb_action)\n",
    "\n",
    "nn = torch.nn.Sequential(\n",
    "    linear1,\n",
    "    torch.nn.ReLU(),\n",
    "    linear2,\n",
    "    torch.nn.Tanh(),\n",
    "    linear3,\n",
    "    torch.nn.Softmax()\n",
    ")\n",
    "print(nn.state_dict())\n",
    "input = torch.Tensor(20,4)"
   ]
  },
  {
   "cell_type": "code",
   "execution_count": 48,
   "id": "40715105-8e04-44e1-a51a-2b5cac38a877",
   "metadata": {},
   "outputs": [
    {
     "name": "stdout",
     "output_type": "stream",
     "text": [
      "tensor([[-0.8265, -0.5755],\n",
      "        [-0.8265, -0.5755],\n",
      "        [-0.8265, -0.5755],\n",
      "        [-0.8265, -0.5755],\n",
      "        [-0.8265, -0.5755],\n",
      "        [-0.8265, -0.5755],\n",
      "        [-0.8265, -0.5755],\n",
      "        [-0.8265, -0.5755],\n",
      "        [-0.8265, -0.5755],\n",
      "        [-0.8265, -0.5755],\n",
      "        [-0.8265, -0.5755],\n",
      "        [-0.8265, -0.5755],\n",
      "        [-0.8265, -0.5755],\n",
      "        [-0.8265, -0.5755],\n",
      "        [-0.8265, -0.5755],\n",
      "        [-0.8265, -0.5755],\n",
      "        [-0.8265, -0.5755],\n",
      "        [-0.8265, -0.5755],\n",
      "        [-0.8265, -0.5755],\n",
      "        [-0.8265, -0.5755]], grad_fn=<LogBackward0>)\n"
     ]
    }
   ],
   "source": [
    "# Calcul de log de la policy\n",
    "\n",
    "\n",
    "\n",
    "output = torch.log(nn(input))\n",
    "print(output)\n",
    "output.sum().backward()\n",
    "\n",
    "\n"
   ]
  },
  {
   "cell_type": "code",
   "execution_count": 40,
   "id": "35f769e2-d42b-4ba1-b2ed-c36d435cd646",
   "metadata": {},
   "outputs": [
    {
     "name": "stdout",
     "output_type": "stream",
     "text": [
      "tensor([[0.4643, 0.5357],\n",
      "        [0.4643, 0.5357],\n",
      "        [0.4643, 0.5357],\n",
      "        [0.4643, 0.5357],\n",
      "        [0.4643, 0.5357],\n",
      "        [0.4643, 0.5357],\n",
      "        [0.4643, 0.5357],\n",
      "        [0.4643, 0.5357],\n",
      "        [0.4643, 0.5357],\n",
      "        [0.4643, 0.5357],\n",
      "        [0.4643, 0.5357],\n",
      "        [0.4643, 0.5357],\n",
      "        [0.4643, 0.5357],\n",
      "        [0.5235, 0.4765],\n",
      "        [0.4643, 0.5357],\n",
      "        [0.4643, 0.5357],\n",
      "        [0.4643, 0.5357],\n",
      "        [0.4643, 0.5357],\n",
      "        [0.4643, 0.5357],\n",
      "        [0.4643, 0.5357]], grad_fn=<SoftmaxBackward0>)\n"
     ]
    }
   ],
   "source": [
    "output_true = torch.Tensor(20,2)\n",
    "print(nn(input))\n",
    "mse = torch.nn.MSELoss()\n",
    "loss = mse(output_true,nn(input))"
   ]
  },
  {
   "cell_type": "code",
   "execution_count": 41,
   "id": "acb8160c-e214-4fa3-a933-14aa2911b9d9",
   "metadata": {},
   "outputs": [],
   "source": [
    "loss.backward()"
   ]
  },
  {
   "cell_type": "code",
   "execution_count": 42,
   "id": "a0c6ce71-9d2c-47bb-9fa2-1ca6c52c4654",
   "metadata": {},
   "outputs": [
    {
     "data": {
      "text/plain": [
       "OrderedDict([('0.weight',\n",
       "              tensor([[-0.4990,  0.4449,  0.1523, -0.3675],\n",
       "                      [-0.3149, -0.2334,  0.3947,  0.1759],\n",
       "                      [ 0.0627,  0.4338, -0.4770,  0.3107],\n",
       "                      [-0.1130, -0.3490, -0.0528, -0.2363],\n",
       "                      [ 0.4454,  0.0306,  0.3574, -0.2279]])),\n",
       "             ('0.bias', tensor([ 0.1863, -0.1371, -0.4190,  0.0356,  0.4500])),\n",
       "             ('2.weight',\n",
       "              tensor([[ 0.2942,  0.2125,  0.3233, -0.2051,  0.3066],\n",
       "                      [ 0.3281,  0.1495,  0.3709,  0.1124,  0.3602],\n",
       "                      [-0.2613, -0.0206, -0.0374, -0.1571, -0.4169],\n",
       "                      [ 0.1661, -0.1480,  0.4107,  0.1690,  0.2141]])),\n",
       "             ('2.bias', tensor([ 0.3514, -0.0698,  0.4260,  0.3785])),\n",
       "             ('4.weight',\n",
       "              tensor([[ 0.2572, -0.4389, -0.2848,  0.0792],\n",
       "                      [ 0.3587,  0.1939,  0.1810, -0.4356]])),\n",
       "             ('4.bias', tensor([0.3065, 0.4587]))])"
      ]
     },
     "execution_count": 42,
     "metadata": {},
     "output_type": "execute_result"
    }
   ],
   "source": [
    "nn.state_dict()"
   ]
  },
  {
   "cell_type": "code",
   "execution_count": 55,
   "id": "f6b08751-6ac9-435e-93d4-9589e99ee746",
   "metadata": {},
   "outputs": [
    {
     "data": {
      "text/plain": [
       "tensor([[5.3396e-39, 0.0000e+00, 3.1333e-39, 1.7007e-39, 0.0000e+00],\n",
       "        [0.0000e+00, 0.0000e+00, 0.0000e+00, 0.0000e+00, 0.0000e+00],\n",
       "        [3.1333e-39, 0.0000e+00, 1.8387e-39, 9.9801e-40, 0.0000e+00],\n",
       "        [1.7007e-39, 0.0000e+00, 9.9801e-40, 5.4171e-40, 0.0000e+00],\n",
       "        [0.0000e+00, 0.0000e+00, 0.0000e+00, 0.0000e+00, 0.0000e+00]])"
      ]
     },
     "execution_count": 55,
     "metadata": {},
     "output_type": "execute_result"
    }
   ],
   "source": [
    "torch.matmul(linear1.weight.grad,torch.transpose(linear1.weight.grad,1,0))"
   ]
  },
  {
   "cell_type": "code",
   "execution_count": 53,
   "id": "bc3ac51d-4fca-42ff-a7f1-18c2d04f1879",
   "metadata": {},
   "outputs": [
    {
     "data": {
      "text/plain": [
       "tensor([[-4.7045e-36,  0.0000e+00, -2.7607e-36, -1.4985e-36,  0.0000e+00],\n",
       "        [ 0.0000e+00,  0.0000e+00,  0.0000e+00,  0.0000e+00,  0.0000e+00],\n",
       "        [ 7.3072e-20,  0.0000e+00,  4.2880e-20,  2.3275e-20,  0.0000e+00],\n",
       "        [-4.2627e-42,  0.0000e+00, -2.5027e-42, -1.3565e-42,  0.0000e+00]])"
      ]
     },
     "execution_count": 53,
     "metadata": {},
     "output_type": "execute_result"
    }
   ],
   "source": [
    "torch.transpose(linear1.weight.grad,1,0)"
   ]
  },
  {
   "cell_type": "code",
   "execution_count": 56,
   "id": "c45a62f2-bd31-477c-9d40-d224a1c72baf",
   "metadata": {},
   "outputs": [
    {
     "data": {
      "text/plain": [
       "tensor([[-4.7045e-36,  0.0000e+00,  7.3072e-20, -4.2627e-42],\n",
       "        [ 0.0000e+00,  0.0000e+00,  0.0000e+00,  0.0000e+00],\n",
       "        [-2.7607e-36,  0.0000e+00,  4.2880e-20, -2.5027e-42],\n",
       "        [-1.4985e-36,  0.0000e+00,  2.3275e-20, -1.3565e-42],\n",
       "        [ 0.0000e+00,  0.0000e+00,  0.0000e+00,  0.0000e+00]])"
      ]
     },
     "execution_count": 56,
     "metadata": {},
     "output_type": "execute_result"
    }
   ],
   "source": [
    "linear1.weight.grad"
   ]
  },
  {
   "cell_type": "code",
   "execution_count": null,
   "id": "e7ba1683-df40-45cc-8fff-706354c9f423",
   "metadata": {},
   "outputs": [],
   "source": []
  }
 ],
 "metadata": {
  "kernelspec": {
   "display_name": "Python 3 (ipykernel)",
   "language": "python",
   "name": "python3"
  },
  "language_info": {
   "codemirror_mode": {
    "name": "ipython",
    "version": 3
   },
   "file_extension": ".py",
   "mimetype": "text/x-python",
   "name": "python",
   "nbconvert_exporter": "python",
   "pygments_lexer": "ipython3",
   "version": "3.8.10"
  }
 },
 "nbformat": 4,
 "nbformat_minor": 5
}
